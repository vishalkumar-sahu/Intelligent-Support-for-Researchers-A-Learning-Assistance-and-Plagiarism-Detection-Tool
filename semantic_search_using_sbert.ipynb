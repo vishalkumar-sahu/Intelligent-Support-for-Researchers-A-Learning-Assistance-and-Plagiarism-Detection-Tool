{
  "nbformat": 4,
  "nbformat_minor": 0,
  "metadata": {
    "colab": {
      "provenance": [],
      "gpuType": "T4",
      "include_colab_link": true
    },
    "kernelspec": {
      "name": "python3",
      "display_name": "Python 3"
    },
    "language_info": {
      "name": "python"
    },
    "widgets": {
      "application/vnd.jupyter.widget-state+json": {
        "fe58e0d0261e4c59b6108d9515583e60": {
          "model_module": "@jupyter-widgets/controls",
          "model_name": "HBoxModel",
          "model_module_version": "1.5.0",
          "state": {
            "_dom_classes": [],
            "_model_module": "@jupyter-widgets/controls",
            "_model_module_version": "1.5.0",
            "_model_name": "HBoxModel",
            "_view_count": null,
            "_view_module": "@jupyter-widgets/controls",
            "_view_module_version": "1.5.0",
            "_view_name": "HBoxView",
            "box_style": "",
            "children": [
              "IPY_MODEL_3dd3e0d79744495b961d489333e065f3",
              "IPY_MODEL_03ed670652254f9faa9f62f70edd406f",
              "IPY_MODEL_89bfb46e51ee4497b2f3500087ee8845"
            ],
            "layout": "IPY_MODEL_25777ccdd4f345f09966aa9f669ed1f1"
          }
        },
        "3dd3e0d79744495b961d489333e065f3": {
          "model_module": "@jupyter-widgets/controls",
          "model_name": "HTMLModel",
          "model_module_version": "1.5.0",
          "state": {
            "_dom_classes": [],
            "_model_module": "@jupyter-widgets/controls",
            "_model_module_version": "1.5.0",
            "_model_name": "HTMLModel",
            "_view_count": null,
            "_view_module": "@jupyter-widgets/controls",
            "_view_module_version": "1.5.0",
            "_view_name": "HTMLView",
            "description": "",
            "description_tooltip": null,
            "layout": "IPY_MODEL_8f0d838b5c21431cb6e1b8b67aa431c6",
            "placeholder": "​",
            "style": "IPY_MODEL_ce8a168b7a504f07888028b489bd6936",
            "value": "Epoch: 100%"
          }
        },
        "03ed670652254f9faa9f62f70edd406f": {
          "model_module": "@jupyter-widgets/controls",
          "model_name": "FloatProgressModel",
          "model_module_version": "1.5.0",
          "state": {
            "_dom_classes": [],
            "_model_module": "@jupyter-widgets/controls",
            "_model_module_version": "1.5.0",
            "_model_name": "FloatProgressModel",
            "_view_count": null,
            "_view_module": "@jupyter-widgets/controls",
            "_view_module_version": "1.5.0",
            "_view_name": "ProgressView",
            "bar_style": "success",
            "description": "",
            "description_tooltip": null,
            "layout": "IPY_MODEL_5bd57db4c5ac4d8ea424c3a9029a35a3",
            "max": 1,
            "min": 0,
            "orientation": "horizontal",
            "style": "IPY_MODEL_e921e2cdf89f43739bdb2c490b614b25",
            "value": 1
          }
        },
        "89bfb46e51ee4497b2f3500087ee8845": {
          "model_module": "@jupyter-widgets/controls",
          "model_name": "HTMLModel",
          "model_module_version": "1.5.0",
          "state": {
            "_dom_classes": [],
            "_model_module": "@jupyter-widgets/controls",
            "_model_module_version": "1.5.0",
            "_model_name": "HTMLModel",
            "_view_count": null,
            "_view_module": "@jupyter-widgets/controls",
            "_view_module_version": "1.5.0",
            "_view_name": "HTMLView",
            "description": "",
            "description_tooltip": null,
            "layout": "IPY_MODEL_02a6a1e55d644e61809f9beff1db5a3a",
            "placeholder": "​",
            "style": "IPY_MODEL_040d977e0f47457c98410a4f8bd871b5",
            "value": " 1/1 [00:23&lt;00:00, 23.12s/it]"
          }
        },
        "25777ccdd4f345f09966aa9f669ed1f1": {
          "model_module": "@jupyter-widgets/base",
          "model_name": "LayoutModel",
          "model_module_version": "1.2.0",
          "state": {
            "_model_module": "@jupyter-widgets/base",
            "_model_module_version": "1.2.0",
            "_model_name": "LayoutModel",
            "_view_count": null,
            "_view_module": "@jupyter-widgets/base",
            "_view_module_version": "1.2.0",
            "_view_name": "LayoutView",
            "align_content": null,
            "align_items": null,
            "align_self": null,
            "border": null,
            "bottom": null,
            "display": null,
            "flex": null,
            "flex_flow": null,
            "grid_area": null,
            "grid_auto_columns": null,
            "grid_auto_flow": null,
            "grid_auto_rows": null,
            "grid_column": null,
            "grid_gap": null,
            "grid_row": null,
            "grid_template_areas": null,
            "grid_template_columns": null,
            "grid_template_rows": null,
            "height": null,
            "justify_content": null,
            "justify_items": null,
            "left": null,
            "margin": null,
            "max_height": null,
            "max_width": null,
            "min_height": null,
            "min_width": null,
            "object_fit": null,
            "object_position": null,
            "order": null,
            "overflow": null,
            "overflow_x": null,
            "overflow_y": null,
            "padding": null,
            "right": null,
            "top": null,
            "visibility": null,
            "width": null
          }
        },
        "8f0d838b5c21431cb6e1b8b67aa431c6": {
          "model_module": "@jupyter-widgets/base",
          "model_name": "LayoutModel",
          "model_module_version": "1.2.0",
          "state": {
            "_model_module": "@jupyter-widgets/base",
            "_model_module_version": "1.2.0",
            "_model_name": "LayoutModel",
            "_view_count": null,
            "_view_module": "@jupyter-widgets/base",
            "_view_module_version": "1.2.0",
            "_view_name": "LayoutView",
            "align_content": null,
            "align_items": null,
            "align_self": null,
            "border": null,
            "bottom": null,
            "display": null,
            "flex": null,
            "flex_flow": null,
            "grid_area": null,
            "grid_auto_columns": null,
            "grid_auto_flow": null,
            "grid_auto_rows": null,
            "grid_column": null,
            "grid_gap": null,
            "grid_row": null,
            "grid_template_areas": null,
            "grid_template_columns": null,
            "grid_template_rows": null,
            "height": null,
            "justify_content": null,
            "justify_items": null,
            "left": null,
            "margin": null,
            "max_height": null,
            "max_width": null,
            "min_height": null,
            "min_width": null,
            "object_fit": null,
            "object_position": null,
            "order": null,
            "overflow": null,
            "overflow_x": null,
            "overflow_y": null,
            "padding": null,
            "right": null,
            "top": null,
            "visibility": null,
            "width": null
          }
        },
        "ce8a168b7a504f07888028b489bd6936": {
          "model_module": "@jupyter-widgets/controls",
          "model_name": "DescriptionStyleModel",
          "model_module_version": "1.5.0",
          "state": {
            "_model_module": "@jupyter-widgets/controls",
            "_model_module_version": "1.5.0",
            "_model_name": "DescriptionStyleModel",
            "_view_count": null,
            "_view_module": "@jupyter-widgets/base",
            "_view_module_version": "1.2.0",
            "_view_name": "StyleView",
            "description_width": ""
          }
        },
        "5bd57db4c5ac4d8ea424c3a9029a35a3": {
          "model_module": "@jupyter-widgets/base",
          "model_name": "LayoutModel",
          "model_module_version": "1.2.0",
          "state": {
            "_model_module": "@jupyter-widgets/base",
            "_model_module_version": "1.2.0",
            "_model_name": "LayoutModel",
            "_view_count": null,
            "_view_module": "@jupyter-widgets/base",
            "_view_module_version": "1.2.0",
            "_view_name": "LayoutView",
            "align_content": null,
            "align_items": null,
            "align_self": null,
            "border": null,
            "bottom": null,
            "display": null,
            "flex": null,
            "flex_flow": null,
            "grid_area": null,
            "grid_auto_columns": null,
            "grid_auto_flow": null,
            "grid_auto_rows": null,
            "grid_column": null,
            "grid_gap": null,
            "grid_row": null,
            "grid_template_areas": null,
            "grid_template_columns": null,
            "grid_template_rows": null,
            "height": null,
            "justify_content": null,
            "justify_items": null,
            "left": null,
            "margin": null,
            "max_height": null,
            "max_width": null,
            "min_height": null,
            "min_width": null,
            "object_fit": null,
            "object_position": null,
            "order": null,
            "overflow": null,
            "overflow_x": null,
            "overflow_y": null,
            "padding": null,
            "right": null,
            "top": null,
            "visibility": null,
            "width": null
          }
        },
        "e921e2cdf89f43739bdb2c490b614b25": {
          "model_module": "@jupyter-widgets/controls",
          "model_name": "ProgressStyleModel",
          "model_module_version": "1.5.0",
          "state": {
            "_model_module": "@jupyter-widgets/controls",
            "_model_module_version": "1.5.0",
            "_model_name": "ProgressStyleModel",
            "_view_count": null,
            "_view_module": "@jupyter-widgets/base",
            "_view_module_version": "1.2.0",
            "_view_name": "StyleView",
            "bar_color": null,
            "description_width": ""
          }
        },
        "02a6a1e55d644e61809f9beff1db5a3a": {
          "model_module": "@jupyter-widgets/base",
          "model_name": "LayoutModel",
          "model_module_version": "1.2.0",
          "state": {
            "_model_module": "@jupyter-widgets/base",
            "_model_module_version": "1.2.0",
            "_model_name": "LayoutModel",
            "_view_count": null,
            "_view_module": "@jupyter-widgets/base",
            "_view_module_version": "1.2.0",
            "_view_name": "LayoutView",
            "align_content": null,
            "align_items": null,
            "align_self": null,
            "border": null,
            "bottom": null,
            "display": null,
            "flex": null,
            "flex_flow": null,
            "grid_area": null,
            "grid_auto_columns": null,
            "grid_auto_flow": null,
            "grid_auto_rows": null,
            "grid_column": null,
            "grid_gap": null,
            "grid_row": null,
            "grid_template_areas": null,
            "grid_template_columns": null,
            "grid_template_rows": null,
            "height": null,
            "justify_content": null,
            "justify_items": null,
            "left": null,
            "margin": null,
            "max_height": null,
            "max_width": null,
            "min_height": null,
            "min_width": null,
            "object_fit": null,
            "object_position": null,
            "order": null,
            "overflow": null,
            "overflow_x": null,
            "overflow_y": null,
            "padding": null,
            "right": null,
            "top": null,
            "visibility": null,
            "width": null
          }
        },
        "040d977e0f47457c98410a4f8bd871b5": {
          "model_module": "@jupyter-widgets/controls",
          "model_name": "DescriptionStyleModel",
          "model_module_version": "1.5.0",
          "state": {
            "_model_module": "@jupyter-widgets/controls",
            "_model_module_version": "1.5.0",
            "_model_name": "DescriptionStyleModel",
            "_view_count": null,
            "_view_module": "@jupyter-widgets/base",
            "_view_module_version": "1.2.0",
            "_view_name": "StyleView",
            "description_width": ""
          }
        },
        "53cd2d3fa32e42db8f8fe715a5b82802": {
          "model_module": "@jupyter-widgets/controls",
          "model_name": "HBoxModel",
          "model_module_version": "1.5.0",
          "state": {
            "_dom_classes": [],
            "_model_module": "@jupyter-widgets/controls",
            "_model_module_version": "1.5.0",
            "_model_name": "HBoxModel",
            "_view_count": null,
            "_view_module": "@jupyter-widgets/controls",
            "_view_module_version": "1.5.0",
            "_view_name": "HBoxView",
            "box_style": "",
            "children": [
              "IPY_MODEL_5b9be3082327402692a0f8a534ec38a4",
              "IPY_MODEL_5109723ed40c4bfcbdb053e98f925dbe",
              "IPY_MODEL_168fdbac0b554118a54e16864934a035"
            ],
            "layout": "IPY_MODEL_332c9c342c7c45b98f88d9fd1b3271a6"
          }
        },
        "5b9be3082327402692a0f8a534ec38a4": {
          "model_module": "@jupyter-widgets/controls",
          "model_name": "HTMLModel",
          "model_module_version": "1.5.0",
          "state": {
            "_dom_classes": [],
            "_model_module": "@jupyter-widgets/controls",
            "_model_module_version": "1.5.0",
            "_model_name": "HTMLModel",
            "_view_count": null,
            "_view_module": "@jupyter-widgets/controls",
            "_view_module_version": "1.5.0",
            "_view_name": "HTMLView",
            "description": "",
            "description_tooltip": null,
            "layout": "IPY_MODEL_a31c3159908044c48e7080f9ca46b2a5",
            "placeholder": "​",
            "style": "IPY_MODEL_6d5a54c020364bacb74312a2908177ff",
            "value": "Iteration: 100%"
          }
        },
        "5109723ed40c4bfcbdb053e98f925dbe": {
          "model_module": "@jupyter-widgets/controls",
          "model_name": "FloatProgressModel",
          "model_module_version": "1.5.0",
          "state": {
            "_dom_classes": [],
            "_model_module": "@jupyter-widgets/controls",
            "_model_module_version": "1.5.0",
            "_model_name": "FloatProgressModel",
            "_view_count": null,
            "_view_module": "@jupyter-widgets/controls",
            "_view_module_version": "1.5.0",
            "_view_name": "ProgressView",
            "bar_style": "success",
            "description": "",
            "description_tooltip": null,
            "layout": "IPY_MODEL_419edfa7f9cc4e83ab3cee87750e7fd5",
            "max": 102,
            "min": 0,
            "orientation": "horizontal",
            "style": "IPY_MODEL_b7abb564ce21456e9da5f8fa5ad61daf",
            "value": 102
          }
        },
        "168fdbac0b554118a54e16864934a035": {
          "model_module": "@jupyter-widgets/controls",
          "model_name": "HTMLModel",
          "model_module_version": "1.5.0",
          "state": {
            "_dom_classes": [],
            "_model_module": "@jupyter-widgets/controls",
            "_model_module_version": "1.5.0",
            "_model_name": "HTMLModel",
            "_view_count": null,
            "_view_module": "@jupyter-widgets/controls",
            "_view_module_version": "1.5.0",
            "_view_name": "HTMLView",
            "description": "",
            "description_tooltip": null,
            "layout": "IPY_MODEL_fb19c0a31deb4862b5fc193543cdbbd6",
            "placeholder": "​",
            "style": "IPY_MODEL_9c4cb1aba0ad49d6975df4ab0aebf4a4",
            "value": " 102/102 [00:23&lt;00:00,  4.49it/s]"
          }
        },
        "332c9c342c7c45b98f88d9fd1b3271a6": {
          "model_module": "@jupyter-widgets/base",
          "model_name": "LayoutModel",
          "model_module_version": "1.2.0",
          "state": {
            "_model_module": "@jupyter-widgets/base",
            "_model_module_version": "1.2.0",
            "_model_name": "LayoutModel",
            "_view_count": null,
            "_view_module": "@jupyter-widgets/base",
            "_view_module_version": "1.2.0",
            "_view_name": "LayoutView",
            "align_content": null,
            "align_items": null,
            "align_self": null,
            "border": null,
            "bottom": null,
            "display": null,
            "flex": null,
            "flex_flow": null,
            "grid_area": null,
            "grid_auto_columns": null,
            "grid_auto_flow": null,
            "grid_auto_rows": null,
            "grid_column": null,
            "grid_gap": null,
            "grid_row": null,
            "grid_template_areas": null,
            "grid_template_columns": null,
            "grid_template_rows": null,
            "height": null,
            "justify_content": null,
            "justify_items": null,
            "left": null,
            "margin": null,
            "max_height": null,
            "max_width": null,
            "min_height": null,
            "min_width": null,
            "object_fit": null,
            "object_position": null,
            "order": null,
            "overflow": null,
            "overflow_x": null,
            "overflow_y": null,
            "padding": null,
            "right": null,
            "top": null,
            "visibility": null,
            "width": null
          }
        },
        "a31c3159908044c48e7080f9ca46b2a5": {
          "model_module": "@jupyter-widgets/base",
          "model_name": "LayoutModel",
          "model_module_version": "1.2.0",
          "state": {
            "_model_module": "@jupyter-widgets/base",
            "_model_module_version": "1.2.0",
            "_model_name": "LayoutModel",
            "_view_count": null,
            "_view_module": "@jupyter-widgets/base",
            "_view_module_version": "1.2.0",
            "_view_name": "LayoutView",
            "align_content": null,
            "align_items": null,
            "align_self": null,
            "border": null,
            "bottom": null,
            "display": null,
            "flex": null,
            "flex_flow": null,
            "grid_area": null,
            "grid_auto_columns": null,
            "grid_auto_flow": null,
            "grid_auto_rows": null,
            "grid_column": null,
            "grid_gap": null,
            "grid_row": null,
            "grid_template_areas": null,
            "grid_template_columns": null,
            "grid_template_rows": null,
            "height": null,
            "justify_content": null,
            "justify_items": null,
            "left": null,
            "margin": null,
            "max_height": null,
            "max_width": null,
            "min_height": null,
            "min_width": null,
            "object_fit": null,
            "object_position": null,
            "order": null,
            "overflow": null,
            "overflow_x": null,
            "overflow_y": null,
            "padding": null,
            "right": null,
            "top": null,
            "visibility": null,
            "width": null
          }
        },
        "6d5a54c020364bacb74312a2908177ff": {
          "model_module": "@jupyter-widgets/controls",
          "model_name": "DescriptionStyleModel",
          "model_module_version": "1.5.0",
          "state": {
            "_model_module": "@jupyter-widgets/controls",
            "_model_module_version": "1.5.0",
            "_model_name": "DescriptionStyleModel",
            "_view_count": null,
            "_view_module": "@jupyter-widgets/base",
            "_view_module_version": "1.2.0",
            "_view_name": "StyleView",
            "description_width": ""
          }
        },
        "419edfa7f9cc4e83ab3cee87750e7fd5": {
          "model_module": "@jupyter-widgets/base",
          "model_name": "LayoutModel",
          "model_module_version": "1.2.0",
          "state": {
            "_model_module": "@jupyter-widgets/base",
            "_model_module_version": "1.2.0",
            "_model_name": "LayoutModel",
            "_view_count": null,
            "_view_module": "@jupyter-widgets/base",
            "_view_module_version": "1.2.0",
            "_view_name": "LayoutView",
            "align_content": null,
            "align_items": null,
            "align_self": null,
            "border": null,
            "bottom": null,
            "display": null,
            "flex": null,
            "flex_flow": null,
            "grid_area": null,
            "grid_auto_columns": null,
            "grid_auto_flow": null,
            "grid_auto_rows": null,
            "grid_column": null,
            "grid_gap": null,
            "grid_row": null,
            "grid_template_areas": null,
            "grid_template_columns": null,
            "grid_template_rows": null,
            "height": null,
            "justify_content": null,
            "justify_items": null,
            "left": null,
            "margin": null,
            "max_height": null,
            "max_width": null,
            "min_height": null,
            "min_width": null,
            "object_fit": null,
            "object_position": null,
            "order": null,
            "overflow": null,
            "overflow_x": null,
            "overflow_y": null,
            "padding": null,
            "right": null,
            "top": null,
            "visibility": null,
            "width": null
          }
        },
        "b7abb564ce21456e9da5f8fa5ad61daf": {
          "model_module": "@jupyter-widgets/controls",
          "model_name": "ProgressStyleModel",
          "model_module_version": "1.5.0",
          "state": {
            "_model_module": "@jupyter-widgets/controls",
            "_model_module_version": "1.5.0",
            "_model_name": "ProgressStyleModel",
            "_view_count": null,
            "_view_module": "@jupyter-widgets/base",
            "_view_module_version": "1.2.0",
            "_view_name": "StyleView",
            "bar_color": null,
            "description_width": ""
          }
        },
        "fb19c0a31deb4862b5fc193543cdbbd6": {
          "model_module": "@jupyter-widgets/base",
          "model_name": "LayoutModel",
          "model_module_version": "1.2.0",
          "state": {
            "_model_module": "@jupyter-widgets/base",
            "_model_module_version": "1.2.0",
            "_model_name": "LayoutModel",
            "_view_count": null,
            "_view_module": "@jupyter-widgets/base",
            "_view_module_version": "1.2.0",
            "_view_name": "LayoutView",
            "align_content": null,
            "align_items": null,
            "align_self": null,
            "border": null,
            "bottom": null,
            "display": null,
            "flex": null,
            "flex_flow": null,
            "grid_area": null,
            "grid_auto_columns": null,
            "grid_auto_flow": null,
            "grid_auto_rows": null,
            "grid_column": null,
            "grid_gap": null,
            "grid_row": null,
            "grid_template_areas": null,
            "grid_template_columns": null,
            "grid_template_rows": null,
            "height": null,
            "justify_content": null,
            "justify_items": null,
            "left": null,
            "margin": null,
            "max_height": null,
            "max_width": null,
            "min_height": null,
            "min_width": null,
            "object_fit": null,
            "object_position": null,
            "order": null,
            "overflow": null,
            "overflow_x": null,
            "overflow_y": null,
            "padding": null,
            "right": null,
            "top": null,
            "visibility": null,
            "width": null
          }
        },
        "9c4cb1aba0ad49d6975df4ab0aebf4a4": {
          "model_module": "@jupyter-widgets/controls",
          "model_name": "DescriptionStyleModel",
          "model_module_version": "1.5.0",
          "state": {
            "_model_module": "@jupyter-widgets/controls",
            "_model_module_version": "1.5.0",
            "_model_name": "DescriptionStyleModel",
            "_view_count": null,
            "_view_module": "@jupyter-widgets/base",
            "_view_module_version": "1.2.0",
            "_view_name": "StyleView",
            "description_width": ""
          }
        }
      }
    },
    "accelerator": "GPU"
  },
  "cells": [
    {
      "cell_type": "markdown",
      "metadata": {
        "id": "view-in-github",
        "colab_type": "text"
      },
      "source": [
        "<a href=\"https://colab.research.google.com/github/vishalkumar-sahu/Intelligent-Support-for-Researchers-A-Learning-Assistance-and-Plagiarism-Detection-Tool/blob/main/semantic_search_using_sbert.ipynb\" target=\"_parent\"><img src=\"https://colab.research.google.com/assets/colab-badge.svg\" alt=\"Open In Colab\"/></a>"
      ]
    },
    {
      "cell_type": "markdown",
      "source": [
        "**Here we are downloading and importing required libraries**"
      ],
      "metadata": {
        "id": "AysXmrOJ0AS_"
      }
    },
    {
      "cell_type": "code",
      "execution_count": null,
      "metadata": {
        "id": "eQtvLdQtsXiA",
        "colab": {
          "base_uri": "https://localhost:8080/"
        },
        "outputId": "b6a32b9b-92cc-436a-b742-4ca7bbc2c910"
      },
      "outputs": [
        {
          "output_type": "stream",
          "name": "stdout",
          "text": [
            "Requirement already satisfied: sentence_transformers in /usr/local/lib/python3.10/dist-packages (2.2.2)\n",
            "Requirement already satisfied: transformers<5.0.0,>=4.6.0 in /usr/local/lib/python3.10/dist-packages (from sentence_transformers) (4.30.2)\n",
            "Requirement already satisfied: tqdm in /usr/local/lib/python3.10/dist-packages (from sentence_transformers) (4.65.0)\n",
            "Requirement already satisfied: torch>=1.6.0 in /usr/local/lib/python3.10/dist-packages (from sentence_transformers) (2.0.1+cu118)\n",
            "Requirement already satisfied: torchvision in /usr/local/lib/python3.10/dist-packages (from sentence_transformers) (0.15.2+cu118)\n",
            "Requirement already satisfied: numpy in /usr/local/lib/python3.10/dist-packages (from sentence_transformers) (1.22.4)\n",
            "Requirement already satisfied: scikit-learn in /usr/local/lib/python3.10/dist-packages (from sentence_transformers) (1.2.2)\n",
            "Requirement already satisfied: scipy in /usr/local/lib/python3.10/dist-packages (from sentence_transformers) (1.10.1)\n",
            "Requirement already satisfied: nltk in /usr/local/lib/python3.10/dist-packages (from sentence_transformers) (3.8.1)\n",
            "Requirement already satisfied: sentencepiece in /usr/local/lib/python3.10/dist-packages (from sentence_transformers) (0.1.99)\n",
            "Requirement already satisfied: huggingface-hub>=0.4.0 in /usr/local/lib/python3.10/dist-packages (from sentence_transformers) (0.16.4)\n",
            "Requirement already satisfied: filelock in /usr/local/lib/python3.10/dist-packages (from huggingface-hub>=0.4.0->sentence_transformers) (3.12.2)\n",
            "Requirement already satisfied: fsspec in /usr/local/lib/python3.10/dist-packages (from huggingface-hub>=0.4.0->sentence_transformers) (2023.6.0)\n",
            "Requirement already satisfied: requests in /usr/local/lib/python3.10/dist-packages (from huggingface-hub>=0.4.0->sentence_transformers) (2.27.1)\n",
            "Requirement already satisfied: pyyaml>=5.1 in /usr/local/lib/python3.10/dist-packages (from huggingface-hub>=0.4.0->sentence_transformers) (6.0)\n",
            "Requirement already satisfied: typing-extensions>=3.7.4.3 in /usr/local/lib/python3.10/dist-packages (from huggingface-hub>=0.4.0->sentence_transformers) (4.7.1)\n",
            "Requirement already satisfied: packaging>=20.9 in /usr/local/lib/python3.10/dist-packages (from huggingface-hub>=0.4.0->sentence_transformers) (23.1)\n",
            "Requirement already satisfied: sympy in /usr/local/lib/python3.10/dist-packages (from torch>=1.6.0->sentence_transformers) (1.11.1)\n",
            "Requirement already satisfied: networkx in /usr/local/lib/python3.10/dist-packages (from torch>=1.6.0->sentence_transformers) (3.1)\n",
            "Requirement already satisfied: jinja2 in /usr/local/lib/python3.10/dist-packages (from torch>=1.6.0->sentence_transformers) (3.1.2)\n",
            "Requirement already satisfied: triton==2.0.0 in /usr/local/lib/python3.10/dist-packages (from torch>=1.6.0->sentence_transformers) (2.0.0)\n",
            "Requirement already satisfied: cmake in /usr/local/lib/python3.10/dist-packages (from triton==2.0.0->torch>=1.6.0->sentence_transformers) (3.25.2)\n",
            "Requirement already satisfied: lit in /usr/local/lib/python3.10/dist-packages (from triton==2.0.0->torch>=1.6.0->sentence_transformers) (16.0.6)\n",
            "Requirement already satisfied: regex!=2019.12.17 in /usr/local/lib/python3.10/dist-packages (from transformers<5.0.0,>=4.6.0->sentence_transformers) (2022.10.31)\n",
            "Requirement already satisfied: tokenizers!=0.11.3,<0.14,>=0.11.1 in /usr/local/lib/python3.10/dist-packages (from transformers<5.0.0,>=4.6.0->sentence_transformers) (0.13.3)\n",
            "Requirement already satisfied: safetensors>=0.3.1 in /usr/local/lib/python3.10/dist-packages (from transformers<5.0.0,>=4.6.0->sentence_transformers) (0.3.1)\n",
            "Requirement already satisfied: click in /usr/local/lib/python3.10/dist-packages (from nltk->sentence_transformers) (8.1.4)\n",
            "Requirement already satisfied: joblib in /usr/local/lib/python3.10/dist-packages (from nltk->sentence_transformers) (1.3.1)\n",
            "Requirement already satisfied: threadpoolctl>=2.0.0 in /usr/local/lib/python3.10/dist-packages (from scikit-learn->sentence_transformers) (3.1.0)\n",
            "Requirement already satisfied: pillow!=8.3.*,>=5.3.0 in /usr/local/lib/python3.10/dist-packages (from torchvision->sentence_transformers) (8.4.0)\n",
            "Requirement already satisfied: MarkupSafe>=2.0 in /usr/local/lib/python3.10/dist-packages (from jinja2->torch>=1.6.0->sentence_transformers) (2.1.3)\n",
            "Requirement already satisfied: urllib3<1.27,>=1.21.1 in /usr/local/lib/python3.10/dist-packages (from requests->huggingface-hub>=0.4.0->sentence_transformers) (1.26.16)\n",
            "Requirement already satisfied: certifi>=2017.4.17 in /usr/local/lib/python3.10/dist-packages (from requests->huggingface-hub>=0.4.0->sentence_transformers) (2023.5.7)\n",
            "Requirement already satisfied: charset-normalizer~=2.0.0 in /usr/local/lib/python3.10/dist-packages (from requests->huggingface-hub>=0.4.0->sentence_transformers) (2.0.12)\n",
            "Requirement already satisfied: idna<4,>=2.5 in /usr/local/lib/python3.10/dist-packages (from requests->huggingface-hub>=0.4.0->sentence_transformers) (3.4)\n",
            "Requirement already satisfied: mpmath>=0.19 in /usr/local/lib/python3.10/dist-packages (from sympy->torch>=1.6.0->sentence_transformers) (1.3.0)\n"
          ]
        }
      ],
      "source": [
        "!pip install sentence_transformers"
      ]
    },
    {
      "cell_type": "code",
      "source": [
        "from sentence_transformers import SentenceTransformer, LoggingHandler\n",
        "from sentence_transformers import models,util, datasets, evaluation,losses"
      ],
      "metadata": {
        "id": "d0dJpxOiu43u"
      },
      "execution_count": null,
      "outputs": []
    },
    {
      "cell_type": "code",
      "source": [
        "from torch.utils.data import DataLoader"
      ],
      "metadata": {
        "id": "qHMQbHxGvUEo"
      },
      "execution_count": null,
      "outputs": []
    },
    {
      "cell_type": "markdown",
      "source": [
        "**Imported two models one for training and one for comparison**"
      ],
      "metadata": {
        "id": "Yu6a_HHmJGoY"
      }
    },
    {
      "cell_type": "code",
      "source": [
        "model_name = 'bert-base-uncased'\n",
        "# model_name = 'all-mpnet-base-v2'\n",
        "word_embedding_model = models.Transformer(model_name)\n",
        "pooling_model = models.Pooling(word_embedding_model.get_word_embedding_dimension(),'cls')\n",
        "model = SentenceTransformer(modules=[word_embedding_model, pooling_model])\n",
        "model2 = SentenceTransformer('all-mpnet-base-v2')"
      ],
      "metadata": {
        "colab": {
          "base_uri": "https://localhost:8080/"
        },
        "id": "NYUV8WEJvmb6",
        "outputId": "68a8b888-7d8b-4300-e7d5-e6e57dbb9d81"
      },
      "execution_count": null,
      "outputs": [
        {
          "output_type": "stream",
          "name": "stderr",
          "text": [
            "Some weights of the model checkpoint at bert-base-uncased were not used when initializing BertModel: ['cls.predictions.transform.LayerNorm.bias', 'cls.predictions.transform.dense.weight', 'cls.seq_relationship.weight', 'cls.seq_relationship.bias', 'cls.predictions.transform.dense.bias', 'cls.predictions.bias', 'cls.predictions.transform.LayerNorm.weight']\n",
            "- This IS expected if you are initializing BertModel from the checkpoint of a model trained on another task or with another architecture (e.g. initializing a BertForSequenceClassification model from a BertForPreTraining model).\n",
            "- This IS NOT expected if you are initializing BertModel from the checkpoint of a model that you expect to be exactly identical (initializing a BertForSequenceClassification model from a BertForSequenceClassification model).\n"
          ]
        }
      ]
    },
    {
      "cell_type": "markdown",
      "source": [
        "**Importing data from test.txt for training**"
      ],
      "metadata": {
        "id": "YOezDVMUJVec"
      }
    },
    {
      "cell_type": "code",
      "source": [
        "import nltk\n",
        "nltk.download('punkt')\n",
        "from nltk.tokenize import sent_tokenize\n",
        "\n",
        "fp=open(\"test.txt\")\n",
        "data =fp.read()\n",
        "list =sent_tokenize(data)\n",
        "print(list)"
      ],
      "metadata": {
        "colab": {
          "base_uri": "https://localhost:8080/"
        },
        "id": "9_7QZR4F7l7E",
        "outputId": "00e0d1ce-9c38-496a-9f1c-bcf246f68001"
      },
      "execution_count": null,
      "outputs": [
        {
          "output_type": "stream",
          "name": "stdout",
          "text": [
            "['Swami Vivekananda (12 January 1863 – 4 July 1902), born Narendranath Datta, was an Indian Hindu monk, philosopher, author, religious teacher, and the chief disciple of the Indian mystic Ramakrishna.', 'He was a key figure in the introduction of Vedanta and Yoga to the Western world and is credited with raising interfaith awareness, and bringing Hinduism to the status of a major world religion.', 'Born into an aristocratic Bengali Kayastha family in Calcutta, Vivekananda was inclined from a young age towards religion and spirituality.', 'He later found his guru, Ramakrishna, and became a monk.', 'After the death of Ramakrishna, Vivekananda extensively toured the Indian subcontinent, acquiring first-hand knowledge of the living conditions of Indian people in then British India.', 'Moved by their plight, he resolved to help his countrymen and found a way to travel to the United States, where he became a popular figure after the 1893 Parliament of Religions in Chicago, in which he began his famous speech with the words: Sisters and brothers of America... before introducing Hinduism to Americans.He was so impactful at the Parliament that an American newspaper described him as \"an orator by divine right and undoubtedly the greatest figure at the Parliament\".', 'After great success at the Parliament, in the subsequent years, Vivekananda delivered hundreds of lectures across the United States, England and Europe, disseminating the core tenets of Hindu philosophy, and founded the Vedanta Society of New York and the Vedanta Society of San Francisco (now Vedanta Society of Northern California), both of which became the foundations for Vedanta Societies in the West.', 'In India, Vivekananda founded the Ramakrishna Math, which provides spiritual training for monastics and householder devotees, and the Ramakrishna Mission that provides charity, social work and education.', 'Vivekananda was one of the most influential philosophers and social reformers in his contemporary India, and the most successful missionaries of Vedanta to the Western world.', 'He was also a major force in contemporary Hindu reform movements, and contributed to the concept of nationalism in colonial India.', '[14] He is now widely regarded as one of the most influential people of modern India and a patriotic saint.', 'His birthday in India is celebrated as National Youth Day.', 'Vivekananda was born as Narendranath Datta (name shortened to Narendra or Naren)[18] in a Bengali family[19][20] in his ancestral home at 3 Gourmohan Mukherjee Street in Calcutta,[21] the capital of British India, on 12 January 1863 during the Makar Sankranti festival.', '[22] He belonged to a traditional family and was one of nine siblings.', '[23] His father, Vishwanath Datta, was an attorney at the Calcutta High Court.', \"[19][24] Durgacharan Datta, Narendra's grandfather was a Sanskrit and Persian scholar[25] who left his family and became a monk at age twenty-five.\", '[26] His mother, Bhubaneswari Devi, was a devout housewife.', \"[25] The progressive, rational attitude of Narendra's father and the religious temperament of his mother helped shape his thinking and personality.\", '[27][28] Narendranath was interested in spirituality from a young age and used to meditate before the images of deities such as Shiva, Rama, Sita, and Mahavir Hanuman.', '[29] He was fascinated by wandering ascetics and monks.', '[28] Narendra was mischievous and restless as a child, and his parents often had difficulty controlling him.', 'His mother said, \"I prayed to Shiva for a son and he has sent me one of his demons\".', \"[26]\\nIn 1871, at the age of eight, Narendranath enrolled at Ishwar Chandra Vidyasagar's Metropolitan Institution, where he went to school until his family moved to Raipur in 1877.\", \"[30] In 1879, after his family's return to Calcutta, he was the only student to receive first-division marks in the Presidency College entrance examination.\", '[31] He was an avid reader in a wide range of subjects, including philosophy, religion, history, social science, art and literature.', '[32] He was also interested in Hindu scriptures, including the Vedas, the Upanishads, the Bhagavad Gita, the Ramayana, the Mahabharata and the Puranas.', 'Narendra was trained in Indian classical music,[33] and regularly participated in physical exercise, sports and organised activities.', \"Narendra studied Western logic, Western philosophy and European history at the General Assembly's Institution (now known as the Scottish Church College).\", '[34] In 1881, he passed the Fine Arts examination, and completed a Bachelor of Arts degree in 1884.', '[35][36] Narendra studied the works of David Hume, Immanuel Kant, Johann Gottlieb Fichte, Baruch Spinoza, Georg W. F. Hegel, Arthur Schopenhauer, Auguste Comte, John Stuart Mill and Charles Darwin.', \"[37][38] He became fascinated with the evolutionism of Herbert Spencer and corresponded with him,[39][40] translating Herbert Spencer's book Education (1861) into Bengali.\", '[41] While studying Western philosophers, he also learned Sanskrit scriptures and Bengali literature.', '[38]\\nWilliam Hastie (principal of Christian College, Calcutta; from where Narendra graduated) wrote, \"Narendra is really a genius.', 'I have travelled far and wide but I have never come across a lad of his talents and possibilities, even in German universities, among philosophical students.', 'He is bound to make his mark in life\".', '[42]\\nNarendra was known for his prodigious memory and the ability at speed reading.', 'Several incidents have been given as examples.', 'In a talk, he once quoted verbatim, two or three pages from Pickwick Papers.', 'Another incident that is given is his argument with a Swedish national where he gave reference to some details on Swedish history that the Swede originally disagreed with but later conceded.', \"In another incident with Dr. Paul Deussen's at Kiel in Germany, Vivekananda was going over some poetical work and did not reply when the professor spoke to him.\", 'Later, he apologised to Dr. Deussen explaining that he was too absorbed in reading and hence did not hear him.', 'The professor was not satisfied with this explanation, but Vivekananda quoted and interpreted verses from the text, leaving the professor dumbfounded about his feat of memory.', 'Once, he requested some books written by Sir John Lubbock from a library and returned them the very next day, claiming that he had read them.', 'The librarian refused to believe him, until cross-examination about the contents convinced him that Vivekananda was indeed being truthful.', '[43]\\n\\nSome accounts have called Narendra a shrutidhara (a person with a prodigious memory).', '[44]\\nPretrained model on English language using a masked language modeling (MLM) objective.', 'It was introduced in this paper and first released in this repository.', 'This model is uncased: it does not make a difference between english and English.', 'Disclaimer: The team releasing BERT did not write a model card for this model so this model card has been written by the Hugging Face team.', 'BERT is a transformers model pretrained on a large corpus of English data in a self-supervised fashion.', 'This means it was pretrained on the raw texts only, with no humans labeling them in any way (which is why it can use lots of publicly available data) with an automatic process to generate inputs and labels from those texts.', 'More precisely, it was pretrained with two objectives.', 'Masked language modeling (MLM): taking a sentence, the model randomly masks 15% of the words in the input then run the entire masked sentence through the model and has to predict the masked words.', 'This is different from traditional recurrent neural networks (RNNs) that usually see the words one after the other, or from autoregressive models like GPT which internally masks the future tokens.', 'It allows the model to learn a bidirectional representation of the sentence.', 'Next sentence prediction (NSP): the models concatenates two masked sentences as inputs during pretraining.', 'Sometimes they correspond to sentences that were next to each other in the original text, sometimes not.', 'The model then has to predict if the two sentences were following each other or not.', 'This way, the model learns an inner representation of the English language that can then be used to extract features useful for downstream tasks: if you have a dataset of labeled sentences, for instance, you can train a standard classifier using the features produced by the BERT model as inputs.', 'BERT has originally been released in base and large variations, for cased and uncased input text.', 'The uncased models also strips out an accent markers.', 'Chinese and multilingual uncased and cased versions followed shortly after.', 'Modified preprocessing with whole word masking has replaced subpiece masking in a following work, with the release of two models.', 'Other 24 smaller models are released afterward.', \"You can use the raw model for either masked language modeling or next sentence prediction, but it's mostly intended to be fine-tuned on a downstream task.\", 'See the model hub to look for fine-tuned versions of a task that interests you.', 'Note that this model is primarily aimed at being fine-tuned on tasks that use the whole sentence (potentially masked) to make decisions, such as sequence classification, token classification or question answering.', 'For tasks such as text generation you should look at model like GPT2.', 'There are significant benefits to using a pretrained model.', 'It reduces computation costs, your carbon footprint, and allows you to use state-of-the-art models without having to train one from scratch.Transformers provides access to thousands of pretrained models for a wide range of tasks.', 'When you use a pretrained model, you train it on a dataset specific to your task.', 'This is known as fine-tuning, an incredibly powerful training technique.', 'In this tutorial, you will fine-tune a pretrained model with a deep learning framework of your choice:\\n\\nFine-tune a pretrained model with Transformers Trainer.', 'Fine-tune a pretrained model in TensorFlow with Keras.', 'Fine-tune a pretrained model in native PyTorch.', 'Before you can fine-tune a pretrained model, download a dataset and prepare it for training.', 'The previous tutorial showed you how to process data for training, and now you get an opportunity to put those skills to the test.', 'At this point, you should follow the section corresponding to the framework you want to use.', 'You can use the links in the right sidebar to jump to the one you want - and if you want to hide all of the content for a given framework, just use the button at the top-right of that framework’s block.', 'Next, create a TrainingArguments class which contains all the hyperparameters you can tune as well as flags for activating different training options.', 'For this tutorial you can start with the default training hyperparameters, but feel free to experiment with these to find your optimal settings.', 'Specify where to save the checkpoints from your training:\\n\\nWhen you want to train a Transformers model with the Keras API, you need to convert your dataset to a format that Keras understands.', 'If your dataset is small, you can just convert the whole thing to NumPy arrays and pass it to Keras.', 'Let’s try that first before we do anything more complicated.', 'First, load a dataset.', 'We’ll use the CoLA dataset from the GLUE benchmark, since it’s a simple binary text classification task, and just take the training split for now.You don’t have to pass a loss argument to your models when you compile() them!', 'Hugging Face models automatically choose a loss that is appropriate for their task and model architecture if this argument is left blank.', 'You can always override this by specifying a loss yourself if you want to.', 'Note that in the code sample above, you need to pass the tokenizer to prepare_tf_dataset so it can correctly pad batches as they’re loaded.', 'If all the samples in your dataset are the same length and no padding is necessary, you can skip this argument.', 'If you need to do something more complex than just padding samples (e.g.', 'corrupting tokens for masked language modelling), you can use the collate_fn argument instead to pass a function that will be called to transform the list of samples into a batch and apply any preprocessing you want.', 'See our examples or notebooks to see this approach in action.', 'Narendra Modi was born and raised in Vadnagar in north-eastern Gujarat, where he completed his secondary education.', 'He was introduced to the RSS at age eight.', 'At age 18, he was married to Jashodaben Modi, whom he abandoned soon after.', 'Modi has said he had travelled in northern India for two years after leaving his parental home, visiting a number of religious centres.', 'He returned to Gujarat in 1971 and became a full-time worker for the RSS.', 'In 1975, after Prime Minister Indira Gandhi declared a state of emergency, Modi went into hiding.', 'The RSS assigned him to the BJP in 1985 and he held several positions within the party hierarchy until 2001, rising to the rank of general secretary.', \"[c]\\n\\nIn 2001, Modi was appointed Chief Minister of Gujarat due to Keshubhai Patel's failing health and poor public image following the earthquake in Bhuj that year, and Modi was elected to the legislative assembly soon after.\", 'His administration has been considered complicit in the 2002 Gujarat riots, in which 1,044 people were killed—three-quarters of whom were Muslim—[d] and has been criticised for its management of the crisis.', 'A Special Investigation Team appointed by the Supreme Court of India found no evidence to initiate prosecution proceedings against him.', \"[e] While his policies as chief minister, which were credited for encouraging economic growth, were praised, Modi's administration was criticised for failing to significantly improve health, poverty and education indices in the state.\", '[f]\\n\\nModi led the BJP in the 2014 Indian general election, in which the party gained a majority in the lower house of the Indian parliament the Lok Sabha; it was the first time for any single party since 1984.', 'His administration has tried to raise direct foreign investment in the Indian economy, and reduced spending on healthcare, education, and social-welfare programmes.', 'He centralised power by abolishing the Planning Commission and replacing it with the NITI Aayog.', 'Modi began a high-profile sanitation campaign, controversially initiated the 2016 demonetisation of high-denomination banknotes and introduced the Goods and Services Tax (GST), and weakened or abolished environmental and labour laws.', \"Modi oversaw India's response to the COVID-19 pandemic.\", 'As prime minister, he has received consistently high approval ratings.', '[12][13][14]\\nNarendra Damodardas Modi was born on 17 September 1950 to a Gujarati Hindu family of grocers in Vadnagar, Mehsana district, Bombay State (present-day Gujarat).', 'He was the third of six children born to Damodardas Mulchand Modi (c.\\u20091915–1989) and Hiraben Modi (1923–2022).', '[28][b][29] His family belonged to the Modh-Ghanchi-Teli (oil-presser) community,[30][31][32] which the Indian government has categorised as an Other Backward Class.', \"[32][33]\\n\\nAccording to Modi, as a child, he had to work in his father's tea shop on the platform of Vadnagar railway station,[34] but the evidence of his neighbours does not entirely corroborate this statement.\", '[35][36] Modi completed his higher secondary education in Vadnagar in 1967; his teachers described him as an average student and a keen, gifted debater with an interest in theatre.', '[37] He preferred playing larger-than-life characters in theatrical productions, which has influenced his political image.', '[38][39]\\n\\nWhen Modi was eight years old, he was introduced to the Rashtriya Swayamsevak Sangh (RSS) and began attending its local shakhas (training sessions).', 'There, he met Lakshmanrao Inamdar, who inducted Modi as a balswayamsevak (junior cadet) in the RSS and became his political mentor.', \"[40] While Modi was training with the RSS, he also met Vasant Gajendragadkar and Nathalal Jaghda, Bharatiya Jana Sangh leaders who in 1980 helped found the BJP's Gujarat unit.\", \"[41]\\n\\nIn a custom traditional to Narendra Modi's caste, his family arranged a betrothal to Jashodaben Chimanlal Modi, leading to their marriage when she was 17 and he was 18.\", '[42][43] Soon afterwards, he abandoned his wife,[44] and left home.', 'The couple never divorced but the marriage was not in his public pronouncements for many decades.', '[45] In April 2014, shortly before the national election in which he gained power, Modi publicly affirmed he was married and that his spouse was Jashodaben.', '[46] The marriage was sexless and Modi kept it secret because he would not have been able to become a pracharak in the puritanical RSS.', '[47][48]\\n\\nModi spent the following two years travelling across northern and north-eastern India.', '[49] In interviews, he has described visiting Hindu ashrams founded by Swami Vivekananda: the Belur Math near Kolkata, the Advaita Ashrama in Almora and the Ramakrishna Mission in Rajkot.', 'His stays at each ashram were brief because he lacked the required college education.', \"[50] Vivekananda has had a large influence in Modi's life.\", '[51]In mid 1968, Modi reached Belur Math but was turned away, after which he visited Calcutta, West Bengal and Assam, stopping in Siliguri and Guwahati.', 'He then went to the Ramakrishna Ashram in Almora, where he was again rejected, before returning to Gujarat via Delhi and Rajasthan in 1968 to 1969.', \"In either late 1969 or early 1970, he returned to Vadnagar for a brief visit before leaving again for Ahmedabad,[52][53] where he lived with his uncle and worked in his uncle's canteen at Gujarat State Road Transport Corporation.\", '[54]\\n\\nIn Ahmedabad, Modi renewed his acquaintance with Inamdar, who was based at the Hedgewar Bhavan (RSS headquarters) in the city.', \"[55][56][57] Modi's first-known political activity as an adult was in 1971 when he joined a Jana Sangh Satyagraha in Delhi led by Atal Bihari Vajpayee to enlist to fight in the Bangladesh Liberation War.\", '[58][59] The Indira Gandhi-led central government prohibited open support for the Mukti Bahini; according to Modi, he was briefly held in Tihar Jail.', \"[60][61][62] After the Indo-Pakistani War of 1971, Modi left his uncle's employ and became a full-time pracharak (campaigner) for the RSS,[63] working under Inamdar.\", '[64] Shortly before the war, Modi took part in a non-violent protest in New Delhi against the Indian government, for which he was arrested; because of this arrest, Inamdar decided to mentor Modi.', '[64] According to Modi, he was part of a Satyagraha the led to a political war.', '[61] [i]\\n\\nIn 1978, Modi received a Bachelor of Arts degree in political science from the School of Open Learning (SOL)[67] at the University of Delhi.', '[47] graduating with a third class.', '[68] In 1983, he received a Master of Arts degree in political science from Gujarat University, graduating with a first class[69][70] as an external distance learning student.', '[71] There is a controversy surrounding his educational qualification.', '[72][73]\\nIn June 1975, Prime Minister Indira Gandhi declared a state of emergency in India that lasted until 1977.', 'During this period, known as \"the Emergency\", many of her political opponents were jailed and opposition groups were banned.', '[74][75] Modi was appointed general secretary of the \"Gujarat Lok Sangharsh Samiti\", an RSS committee co-ordinating opposition to the Emergency in Gujarat.', 'Shortly afterwards, the RSS was banned.', '[76] Modi was forced to go underground in Gujarat and frequently travelled in disguise to avoid arrest, once dressing as a monk and once as a Sikh.', '[77] He became involved in the printing of pamphlets opposing the government, sending them to Delhi and organising demonstrations.', '[78][79] He was also involved with creating a network of safe houses for individuals who were wanted by the government, and in raising funds for political refugees and activists.', '[80] During this period, Modi wrote a Gujarati-language book titled Sangharsh Ma Gujarat (In the Struggles of Gujarat), which describes events during the Emergency.', '[81][82] While in this role, Modi met trade unionist and socialist activist George Fernandes and several other national political figures.', \"[83]\\n\\nModi became an RSS sambhag pracharak (regional organiser) in 1978, overseeing activities in Surat and Vadodara, and in 1979, he went to work for the RSS in Delhi, where he researched and wrote the RSS's history of the Emergency.\", 'Shortly after, he returned to Gujarat and in 1985, the RSS assigned him to the BJP.', \"In 1987, Modi helped organise the BJP's campaign in the Ahmedabad municipal election, which the party won comfortably; according to biographers, Modi's planning was responsible for the win.\", \"[84][85] After L. K. Advani became president of the BJP in 1986, the RSS decided to place its members in important positions within the party; Modi's work during the Ahmedabad election led to his selection for this role.\", \"Modi was elected organising secretary of the BJP's Gujarat unit later in 1987.\", '[86]\\nOn 27 February 2002, a train with several hundred passengers burned near Godhra, killing approximately 60 people.', '[j][101] The train carried a large number of Hindu pilgrims who were returning from Ayodhya after a religious ceremony at the site of the demolished Babri Masjid.', '[102][103] In a public statement, Modi said local Muslims were responsible for the incident.', '[7][102][104] The next day, the Vishwa Hindu Parishad called for a bandh (general strike) across the state.', '[105][106] Riots began during the bandh and anti-Muslim violence spread through Gujarat.', \"[102][105][106] The government's decision to move the bodies of the train victims from Godhra to Ahmedabad further inflamed the violence.\", '[102][107] The state government later stated 790 Muslims and 254 Hindus were killed during the riots;[103] independent sources put the death toll at over 2,000,[102][101][108] the vast majority of them Muslims.', '[101] Approximately 150,000 people were driven to refugee camps.', '[109] Numerous women and children were among the victims; the violence included mass rapes and mutilation of women.', '[6][110]\\n\\nScholars consider the Government of Gujarat to have been complicit in the riots,[7][111] and it has received much criticism for its handling of the situation;[112] some scholars explicitly blame Modi.', '[6][113][114] The Modi government imposed a curfew in 26 major cities, issued shoot-at-sight orders and called for the army to patrol the streets; these measured failed to prevent the violence from escalating.', '[105][106] The president of the state unit of the BJP expressed support for the bandh despite such actions being illegal at the time.', '[7] State officials later prevented riot victims from leaving the refugee camps, which were often unable to meet the needs of those living there.', '[115] Muslim victims of the riots were subjected to further discrimination when the state government announced their compensation would be half that offered to Hindu victims; this decision was later reversed after the issue was taken to court.', '[116] During the riots, police officers often did not intervene in situations where they were able.', '[6][104][117] Several scholars have described the violence as a pogrom and others have called it an example of state terrorism.', '[118][119][120] According to Martha Nussbaum; \"There is by now a broad consensus that the Gujarat violence was a form of ethnic cleansing, that in many ways it was premeditated, and that it was carried out with the complicity of the state government and officers of the law\".', \"[6]\\n\\nModi's personal involvement in the 2002 events has continued to be debated.\", 'During the riots, he said; \"What is happening is a chain of action and reaction\".', '[6] Later in 2002, Modi said the way in which he had handled the media was his only regret regarding the episode.', '[121] In March 2008, the Supreme Court of India reopened several cases related to the riots, including that of the Gulbarg Society massacre, and established a Special Investigation Team (SIT) to look into the issue.', \"[112][122][123] In response to a petition from Zakia Jafri, the widow of Ehsan Jafri, who was killed in the Gulbarg Society massacre, in April 2009, the court also asked the SIT to investigate Modi's complicity in the killings.\", '[122] The SIT questioned Modi in March 2010; in May, it presented to the court a report finding no evidence against him.', '[122][124] In July 2011, the court-appointed amicus curiae Raju Ramachandran submitted his final report to the court.', \"Contrary to the SIT's position, Ramachandran said Modi could be prosecuted based on the available evidence.\", \"[125][126] The Supreme Court sent the matter to the magistrate's court.\", \"The SIT examined Ramachandran's report, and in March 2012 submitted its final report, asking for the case to be closed.\", 'Zakia Jafri filed a protest petition in response.', \"In December 2013, the magistrate's court rejected the protest petition, accepting the SIT's finding there was no evidence against Modi.\", '[127] In 2022, the Supreme Court dismissed a petition by Zakia Jafri in which she challenged the clean chit given to Modi in the riots by the SIT, and upheld previous rulings that no evidence against him was found.', '[128][129][130]\\n\\nLater terms as Chief Minister\\nMain article: 2002 Gujarat Legislative Assembly election\\nFollowing the violence, calls for Modi to resign as chief minister were made from politicians within and outside the state, including leaders of Dravida Munnetra Kazhagam and the Telugu Desam Party—partners in the BJP-led National Democratic Alliance coalition—and opposition parties stalled Parliament over the issue.', '[131] Modi submitted his resignation at the April 2002 BJP national executive meeting in Goa but it was not accepted.', '[132] Despite opposition from the election commissioner, who said a number of voters were still displaced, Modi succeeded in advancing the election to December 2002.', '[133] In the election, the BJP won 127 seats in the 182-member assembly.', '[134] Modi made significant use of anti-Muslim rhetoric during his campaign,[135][136][137][138] and the BJP profited from religious polarisation among voters.', '[133] Modi framed the criticism of his government for human rights violations as an attack upon Gujarati pride,[5][135] a strategy that led to the BJP winning 127 of the 182[134]seats—a two-thirds majority—in the state assembly.', '[5][135] He won Maninagar constituency, defeating INC candidate Yatin Oza.', '[139] On 22 December 2002, Modi was sworn in for a second term.', \"[140]\\n\\nDuring Modi's second term, the government's rhetoric shifted from Hindutva to Gujarat's economic development.\", '[94][5][135] He curtailed the influence of Sangh Parivar organisations such as Bharatiya Kisan Sangh (BKS) and Vishva Hindu Parishad (VHP).', \"[141] When the BKS staged a farmers' demonstration, Modi ordered the BKS's eviction from state-provided houses, and his decision to demolish 200 illegal temples in Gandhinagar deepened the rift with the VHP.\", '[141][142] Modi retained connections with some Hindu nationalists.', 'He wrote a foreword to a 2014 textbook by Dinanath Batra, which stated ancient India possessed technologies including test-tube babies.', \"[143][144]\\n\\nModi's relationship with Muslims continued to attract criticism.\", \"Prime Minister Atal Bihari Vajpayee distanced himself, reaching out to North Indian Muslims before the 2004 Indian general election, following which, Vajpayee called the violence in Gujarat a reason for the BJP's electoral defeat and said it had been a mistake to leave Modi in office after the riots.\", \"[145][146] Western nations also raised questions about Modi's relationship with Muslims; the US State Department barred him from entering the United States in accordance with the recommendations of that country's Commission on International Religious Freedom,[147][148] the only person to be denied a US visa under this law.\", '[147] The UK and the European Union (EU) refused to admit Modi because of what they saw as his role in the riots.', 'As Modi rose to prominence in India, the UK[149] and the EU[150] lifted their bans in October 2012 and March 2013, respectively, and after his election as prime minister in 2014, the US lifted its ban and invited him to Washington, D.C.[151][152]\\n\\n\\nModi meeting with then-Prime Minister of India Manmohan Singh in 2004\\nDuring the run-up to the 2007 Gujarat Legislative Assembly election and the 2009 Indian general election, the BJP intensified its rhetoric on terrorism.', '[153] Modi criticised Prime Minister Manmohan Singh \"for his reluctance to revive anti-terror legislation\" such as the 2002 Prevention of Terrorism Act.', '[154] In 2007, Modi wrote Karmayog, a 101-page booklet discussing manual scavenging.', 'In it, he said scavenging is a \"spiritual experience\" for Valmiks, a sub-caste of Dalits.', '[155][156] The book was not circulated at that time because of the election code of conduct.', '[157] After the November 2008 Mumbai attacks, the Gujarat government authorized the deployment of 30 high-speed boats for coastal surveillance.', '[158] In July 2007, Modi completed 2,063 consecutive days as chief minister of Gujarat, making him the longest-serving holder of that post.', \"[159] The BJP won 122 of 182 state-assembly seats in that year's election.\", \"[160]\\n\\nDespite the BJP's shift away from explicit Hindutva, Modi's campaigns in 2007 and 2012 Gujarat Legislative Assembly elections contained elements of Hindu nationalism.\", 'He attended only Hindu religious ceremonies and had prominent associations with Hindu religious leaders.', 'During his 2012 campaign, Modi twice refused to wear articles of clothing gifted by Muslim leaders.', '[135] He did, however, maintain relations with Dawoodi Bohra.', \"[135] Modi's 2012 campaign included references to issues known to cause religious polarisation, including Afzal Guru and the death of Sohrabuddin Sheikh.\", 'The BJP did not nominate any Muslim candidates for the 2012 assembly election.', '[135] During the 2012 campaign, Modi attempted to identify himself with the state of Gujarat, a strategy similar to that used by Indira Gandhi during the Emergency, and projected himself as protecting Gujarat against persecution by the rest of India.', '[135] While campaigning for the 2012 Gujarat Legislative Assembly election, Modi made extensive use of holograms and other technologies, allowing him to reach a large number of people,[133] something he repeated in the 2014 general election.', 'Modi won the constituency of Maninagar, defeating Shweta Bhatt of the INC.[161] The BJP won 115 of the 182 seats, continuing its majority during his tenure.', '[162] After his election as Prime Minister of India, Modi resigned as the Gujarat chief minister and as MLA for Maninagar.', 'Anandiben Patel succeeded Modi as chief minister.', '[163]\\n\\nDevelopment projects\\n\\nThe Sardar Sarovar Dam during a 2006 height increase\\nAs chief minister, Modi favoured privatisation and small government, which was at odds with the philosophy of the RSS, which is usually described as anti-privatisation and anti-globalisation.', \"Modi's policies during his second term have been credited with reducing corruption in Gujarat.\", 'He established financial and technology parks in the state and during the 2007 Vibrant Gujarat summit, real-estate investment deals worth ₹6.6 trillion (equivalent to ₹17 trillion or US$210 billion in 2020) were signed.', '[94]\\n\\nThe governments led by Patel and Modi supported NGOs and communities in the creation of groundwater-conservation projects.', 'By December 2008, 500,000 structures had been built, of which 113,738 were check dams, which helped recharge the aquifers beneath them.', '[164] Sixty of the 112 tehsils which had depleted the water table in 2004 had regained their normal groundwater levels by 2010.', \"[165] As a result, the state's production of genetically modified cotton increased to become the largest in India.\", \"[164] The boom in cotton production and its semi-arid land use[166] led to Gujarat's agricultural sector growing at an average rate of 9.6 percent from 2001 to 2007.\", '[167] Public irrigation measures in central and southern Gujarat, such as the Sardar Sarovar Dam, were less successful.', 'The Sardar Sarovar project irrigated only 4–6% of the area intended.', '[164] In 2008, Modi offered land in Gujarat to Tata Motors to set up a plant manufacturing the Nano car after popular agitation had forced the company to move out of West Bengal.', 'Following Tata, several other companies relocated to Gujarat.', '[168]\\n\\nThe Modi government finished the process of taking electricity to every village in Gujarat its predecessor had almost completed.', \"[169] Modi significantly changed the state's system of power distribution, greatly impacting farmers.\", 'Gujarat expanded the Jyotigram Yojana scheme, in which agricultural electricity was separated from other rural electricity; the agricultural electricity was rationed to fit scheduled irrigation demands, reducing its cost.', 'Early protests by farmers ended when those who benefitted found their electricity supply had stabilised[164] but, according to an assessment study, corporations and large farmers benefited from the policy at the expense of small farmers and labourers.', \"[170]\\nA contentious debate surrounds the assessment of Gujarat's economic development during Modi's tenure as chief minister.\", \"[171] The state's Gross Domestic Product (GDP) growth rate averaged 10% during his tenure, a rate similar to those of other highly industrialised states, and above that of India as a whole.\", '[168] Gujarat also had a high rate of economic growth in the 1990s, before Modi took office; some scholars have stated growth did not much accelerate during his tenure.', '[172] Under Modi, Gujarat topped the World Bank\\'s \"ease of doing business\" rankings among Indian states for two consecutive years.', '[173] In 2013, a report measuring governance, growth, citizens\\' rights, and labour and business regulation among the country\\'s 20 largest states, ranked Gujarat first among Indian states for \"economic freedom\".', \"[168][174] In the later years of Modi's government, Gujarat's economic growth was frequently used as an argument to counter allegations of communalism.\", '[5] Tax breaks and land for businesses were easier to obtain in Gujarat than in other states.', \"Modi's policies of making Gujarat attractive for investment included the creation of Special Economic Zones in which labour laws were greatly weakened.\", \"[135]\\n\\nDespite its growth rate, Gujarat had a relatively poor record on human development, poverty relief, nutrition and education during Modi's tenure.\", 'In 2013, Gujarat ranked 13th in India with respect to rates of poverty, and 21st in education.', 'Nearly 45 percent of children under five were underweight and 23 percent were undernourished, putting the state in the \"alarming\" category on the India State Hunger Index.', '[175][176] A study by UNICEF and the Indian government found Gujarat under Modi had a poor record in immunisation of children.', '[177]\\n\\nFrom 2001 to 2011, Gujarat did not change its position relative to the rest of the country with respect to poverty and female literacy, remaining near the median of the 29 Indian states.', '[116] It showed a marginal improvement in rates of infant mortality and its position with respect to individual consumption declined.', '[116] The quality of education in government schools in Gujarat ranked below that of many Indian states.', \"[116] The state government's social policies generally did not benefit Muslims, Dalits and Adivasis, and generally increased social inequalities.\", '[116] Development in Gujarat was generally limited to the urban middle class, and citizens in rural areas and those from lower castes were increasingly marginalised.', 'In 2013, the state ranked 10th of 21 Indian states in the Human Development Index.', '[9] Under Modi, the state government spent less than the national average on education and healthcare.', \"[116]\\n\\nIn September 2013, Modi was named the BJP's candidate for prime minister ahead of the 2014 Lok Sabha election.\", '[178][179] Several BJP leaders,[180] including BJP founding member L. K. Advani who cited concern with leaders who were \"concerned with their personal agendas\", expressed opposition to Modi\\'s candidature.', \"[181] Modi played a dominant role in the BJP's 2009 general election campaign.\", '[182][183] Several people who voted for the BJP stated they would have voted for another party if Modi had not been the prime-ministerial candidate.', '[178][184][185] The focus on Modi as an individual was unusual for a BJP election campaign.', '[180][186] The election was described as a referendum on Narendra Modi.', '[171]\\n\\n\\nModi meets his mother after winning the 2014 election\\nDuring the campaign, Modi focused on corruption scandals under the previous INC government, and played on his image as a politician who had created a high rate of GDP growth in Gujarat.', '[180] He projected himself as a person who could bring about \"development\" without focusing on specific policies.', '[180] His message found support among young and middle-class people.', \"The BJP under Modi was able to downplay concerns about the protection of religious minorities and Modi's commitment to secularism, areas in which he had previously received criticism.\", \"[183] Prior to the election, Modi's media image had centred around his role in the 2002 Gujarat riots but during the campaign, the BJP focused on Modi's neoliberal ideology and the Gujarat model of development.\", '[183] The BJP sought to identify itself with political leaders who publicly opposed Hindu nationalism, including B. R. Ambedkar, Subhas Chandra Bose and Ram Manohar Lohia.', '[144] Hindutva remained a part of the campaign; BJP leaders used Hindutva-based rhetoric in several states.', '[187][180][184][24] Communal tensions were played upon, especially in Uttar Pradesh and Northeast India.', \"[187] A proposal for the controversial Uniform Civil Code was a part of the BJP's election manifesto.\", \"[24] The BJP's campaign was assisted by its wide influence in the media.\", \"[176] Modi's campaign blitz cost around ₹50 billion (US$630 million)[171] and the BJP received extensive financial support from corporate donors.\", '[188] In addition to more-conventional campaign methods, Modi made extensive use of social media[171][180] and addressed more than 1,000 rallies via hologram appearances.', '[24]\\n\\nThe BJP won 31 percent of the vote,[23] and more-than-doubled its number of seats in the Lok Sabha to 282, becoming the first party to win a majority of seats on its own since 1984.', \"[183][184] Voter dissatisfaction with the INC and with regional parties in North India, and support from the RSS were reasons for the BJP's success.\", '[184][180] In states such as Uttar Pradesh, where the BJP performed well, it drew exceptionally high support from upper-caste Hindus, and its Muslim vote increased to 10 percent.', 'The BJP performed particularly well in parts of the country that had recently experienced violence between Hindus and Muslims.', \"[184] The magnitude of the BJP's victory led many commentators to say the election constituted a political realignment away from progressive parties towards the right-wing.\", \"[24][171][184][189][190] Modi's tweet announcing his victory was described as being emblematic of the political realignment away from a secular, socialist state towards capitalism and Hindu cultural nationalism.\", '[191]\\n\\nModi was a candidate for the Lok Sabha constituencies Varanasi and Vadodara.', '[192] He won in both constituencies, defeating Aam Aadmi Party leader Arvind Kejriwal in Varanasi by 371,784 votes and Madhusudan Mistry of the INC in Vadodara by 570,128 votes.', \"[193] India's president appointed Modi, who was unanimously elected leader of the BJP, Prime Minister of India.\", '[194][195] To comply with the law prohibiting MPs from representing more than one constituency, he vacated the Vadodara seat.', '[196]\\n\\n2019 Indian general election\\nMain article: Bharatiya Janata Party campaign for the 2019 Indian general election\\nExternal video\\nvideo icon BJP announced manifesto and Shri Narendra Modi as prime minister candidate.', 'Bharatiya Janata Party on YouTube, 8 April 2019.', 'On 13 October 2018, Modi was named the BJP candidate for prime minister in the 2019 general election.', \"[197] The BJP's chief campaigner was its president Amit Shah.\", 'Modi launched the party\\'s Main Bhi Chowkidar (\"I too am a watchman\") campaign ahead of the general election, against the INC\\'s campaign slogan Chowkidar Chor Hai (\"The watchman is a thief\").', '[198] In 2018, the Telugu Desam Party split from the NDA over the campaign for special status for Andhra Pradesh.', \"[199]\\n\\nAmit Shah launched the BJP's election campaign on 8 April 2019.\", 'In the campaign, the opposition targeted Modi on allegations of corruption over the Rafale deal with the Government of France, highlighting the controversy surrounding the deal.', \"[200] Modi's campaign focused on defence and national security, especially after Pulwama attack and the retaliatory Balakot airstrike, which was counted as an achievement of his administration.\", '[201][202] Other topics in the campaign were development and good foreign relations in the first premiership.', '[203]\\n\\nModi contested the Lok Sabha election as a candidate for Varanasi; he won the seat by a margin of 479,505 votes, defeating Shalini Yadav of the Samajwadi Party (SP), who stood as a candidate for the SP-BSP alliance.', '[204][205] Modi was unanimously appointed prime minister for a second time by the National Democratic Alliance[206] after the alliance won the election for the second time with 353 seats in the Lok Sabha; the BJP alone won 303 seats.', '[207][208]\\n\\nPrime Minister\\nMain article: Premiership of Narendra Modi\\nFor a chronological guide, see Timeline of the premiership of Narendra Modi.', \"Modi taking the oath of office as the Prime Minister of India, with President Pranab Mukherjee administering the oath\\n\\nModi taking the oath of office as the Prime Minister of India for the second time, with President Ram Nath Kovind administering the oath\\nAfter the Bharatiya Janata Party-led National Democratic Alliance (NDA) won a landslide in the 2014 Lok Sabha election, Modi was sworn in as Prime Minister (PM) of India on 26 May 2014, becoming the first Indian PM to be born after the country's independence from the British Empire in 1947.\", \"[209] Modi's second term as PM began in 2019 following the NDA's 2019 Lok Sabha election win.\", 'On 6 December 2020, he became the fourth-longest-serving Prime Minister of India and the longest-serving non-Congress prime minister.', \"[210]\\n\\nGovernance and other initiatives\\n\\nPrime Minister Modi walking towards the dais to address the Nation at Red Fort, on the occasion of 75th Independence Day, in Delhi on 15 August 2021\\nModi's first year as PM saw significant centralisation of power.\", '[144][211] Modi, who initially lacked a majority in the Rajya Sabha, the upper house of Indian Parliament, passed a number of ordinances to enact his policies, leading to further centralisation of power.', '[212] His administration enacted a bill to increase its control over the appointment of judges and reducing that of the judiciary.', '[23] In December 2014, he abolished the Planning Commission, replacing it with the National Institution for Transforming India (NITI Aayog),[213][214] concentrating the power previously with the planning commission in the person of the PM.', '[212][213][214][215][216] The Planning Commission had in previous years been criticised for creating inefficiency in the government and of not fulfilling its role of improving social welfare but since the economic liberalisation of the 1990s, it had been the major government body responsible for measures related to social justice.', '[214]\\n\\nIn its first year of administration, the Modi government launched investigations through the Intelligence Bureau into numerous civil society organisations and foreign non-governmental organisations (NGOs) on the grounds these organisations were slowing economic growth.', 'The investigation was criticised as a witch hunt.', 'International humanitarian aid organisation Medecins Sans Frontieres, and environmental nonprofit organisation Sierra Club and Avaaz were among the groups that were investigated.', '[144][215] Cases of sedition and terrorism laws were filed against individuals who criticised the government.', '[144][217] This led to discontent within the BJP about his style of functioning and drew comparisons to the governing style of Indira Gandhi.', '[144][212]\\n\\nModi repealed 1,200 obsolete laws in first three years as prime minister; 1,301 such laws had been repealed by previous governments in the previous 64 years.', '[218][219][220] Modi launched the Digital India programme with the goal of ensuring government services are available electronically, build infrastructure to provide high-speed Internet access to rural areas, boost manufacturing of electronic goods in the country, and promote digital literacy.', '[221][222]\\n\\nIn 2019, a law to reserve 10 percent of educational admission and government jobs for economically disadvantaged individuals was passed.', \"[223][224] In 2016, Modi's administration launched the Ujjwala scheme to provide free liquefied petroleum gas (LPG) connections to rural households.\", 'The scheme led to an additional 24% of Indian households having access to LPG in 2019 as compared to 2014.', '[225] In 2022, the government eliminated LPG subsidies for all citizens except those covered by the Ujjwala program.', \"[226]\\n\\nHindutva\\nFurther information: Hindutva\\n\\nModi pays obeisance at Tirumala Temple in Andhra Pradesh\\nThe activities of a number of Hindu nationalist organisations increased in scope after Modi's appointment as prime minister, sometimes with the government's support.\", '[227][228] These activities included a Hindu religious conversion programme, a campaign against the supposed Islamic practice of \"Love Jihad\" and attempts to celebrate Nathuram Godse, the assassin of Mahatma Gandhi, by members of the right-wing organisation Hindu Mahasabha.', '[229][230] Government officials, including the Home Minister, defended the conversion programmes.', '[187]\\n\\nLinks between the BJP and the Rashtriya Swayamsevak Sangh (RSS) grew stronger under Modi.', \"The RSS provided organisational support to the BJP's electoral campaigns while the Modi administration appointed RSS-affiliated individuals to prominent government positions.\", '[231] In 2014, Yellapragada Sudershan Rao, who had previously been associated with the RSS, became the chairperson of the Indian Council of Historical Research (ICHR).', \"[24] Historians and former members of the ICHR, including those sympathetic to the BJP, questioned Rao's credentials as a historian and stated the appointment was part of an agenda of cultural nationalism.\", '[24][232][233] During its first term, the Modi administration appointed other RSS members to lead universities and research institutions, and recruitment of faculty members favouring the RSS increased.', 'According to scholars Nandini Sundar and Kiran Bhatty, many of these appointees did not possess the qualifications for their positions.', '[234] The Modi administration also made numerous changes in government-approved history textbooks that de-emphasised the role of Jawaharlal Nehru and glorified that of Modi while also portraying Indian society as harmonious, and without conflict and inequity.', '[234][235]\\n\\nIn 2019, the Modi administration passed a citizenship law that provides a route to Indian citizenship for persecuted religious minorities from Afghanistan, Bangladesh and Pakistan who are Hindus, Sikhs, Buddhists, Jains, Parsis or Christians,[236][237] but does not grant eligibility to Muslims.', '[238][239][240] This was first time religion had been overtly used as a criterion for citizenship under Indian law; it attracted global criticism and prompted widespread protests that were halted by the COVID-19 pandemic.', '[234][240][241] Counter-demonstrations against the protests developed into the 2020 Delhi riots, caused chiefly by Hindu mobs attacking Muslims.', '[242][243] Fifty-three people were killed in the protests, two-thirds of whom were Muslim.', '[244][245][246][247][248] On 5 August 2020, Modi visited Ayodhya after the Supreme Court in 2019 ordered contested land in Ayodhya to be handed to a trust to build a Hindu temple and ordered the government to give alternative 5 acres (2.0 ha) of land to the Sunni Waqf Board for the purpose of building a mosque.', '[249] Modi became the first PM to visit temples at Ram Janmabhoomi and Hanuman Garhi.', '[250]\\n\\nSoon after Modi returned to power in 2019, he took three actions the RSS had long called for.', '[234] The practice of Triple Talaq was made illegal and became a punishable act from 1 August 2019.', '[251][252][253] The administration repealed Article 370 of the Indian constitution that granted autonomy to Jammu and Kashmir, and also abrogated its statehood, reorganizing it into the union territories Jammu and Kashmir, and Ladakh.', '[234][254] The region was placed under a lockdown and internet services were suspended and were not completely restored until February 2021.', '[255] Thousands of people, including hundreds of political leaders, were detained.', '[256][257][258][259] The Supreme Court of India did not hear constitutional challenges to the reorganisation or the Citizenship Amendment Act.', 'According to Bhatty and Sundar, this is an example of the subversion of the Supreme Court and other major institutions, which were filled with appointees favouring the BJP.', '[234]\\n\\nEconomic policy\\n\\nBRICS leaders in 2019.', \"Left to right: Xi (China), Putin (Russia), Bolsonaro (Brazil), Modi and Ramaphosa (South Africa)\\nThe Modi government's economic policies focused on privatisation and liberalisation of the economy, and were based on a neoliberal framework.\", \"[215][260] Modi liberalised India's foreign direct investment policies, allowing more foreign investment in several industries, including defence and railways.\", '[215][261][262] Other proposed reforms included making the forming of unions more difficult for workers, and making recruitment and dismissal easier for employers;[260] some of these proposals were abandoned after protests.', \"[263] The reforms drew strong opposition from unions; on 2 September 2015, eleven of the country's largest unions—including one affiliated with the BJP—struck.\", '[260] The Bharatiya Mazdoor Sangh (Indian Workers Union), a constituent of the Sangh Parivar (Family of the RSS), stated the underlying motivation of labour reforms favoured corporations over labourers.', \"[215]\\n\\nThe funds dedicated to poverty-reduction programmes and social welfare measures were greatly reduced by Modi's administration.\", \"[144] The money spent on social programmes declined from 14.6 percent of GDP during the previous Congress government to 12.6 percent during Modi's first year in office, and spending on health and family welfare declined by 15 percent.\", '[215] The government lowered corporate taxes, abolished the wealth tax, increased sales taxes, and reduced customs duties on gold and jewellery.', '[215] In October 2014, the Modi government deregulated diesel prices.', \"[264] During Modi's first term, his government reduced spending on education as share of the budget; over five years, education spending dropped from 0.7 percent of GDP to 0.5 percent.\", \"[265][266][267] The percentage of the budget spent on children's nutrition, education, health, and associated programmes was almost halved between 2014 and 2022.\", '[268] Capital expenditure on transport infrastructure significantly rose, increasing from less than 0.4 percent of GDP in 2014 to 1.7 percent in 2023.', '[269]\\n\\nIn September 2014, Modi introduced the Make in India initiative to encourage foreign companies to manufacture products in India with the goal of turning the country into a global manufacturing hub.', '[215][270] Supporters of economic liberalisation supported the initiative but critics said it would allow foreign corporations to capture a greater share of the Indian market.', \"[215] Modi's administration passed a land-reform bill that allowed it to acquire private agricultural land without conducting a social impact assessment, and without the consent of the farmers who owned it.\", '[271] The bill was passed via an executive order after it faced opposition in Parliament but was eventually allowed to lapse.', \"[212] Modi's government passed the Goods and Services Tax, the biggest tax reform in the country since independence, subsuming around 17 taxes and became effective on 1 July 2017.\", '[272]\\n\\n\\nModi at the launch of the Make in India programme\\nIn his first cabinet decision, Modi set up a team to investigate black money.', '[273] On 9 November 2016, the government demonetised ₹500 and ₹1000 banknotes with the intention of curbing corruption, black money, terrorism and the use of counterfeit currency.', '[274] The move led to severe cash shortages,[275][276][277] and a steep decline in the Indian stock indices BSE SENSEX and NIFTY 50,[278] and sparked widespread protests throughout the country.', \"[279] It is estimated 1.5 million jobs were lost and that one percent of the country's GDP was wiped out.\", '[280] Several deaths were linked to the rush to exchange cash.', '[281][282] In the subsequent year, the number of income tax returns filed for individuals rose by 25 percent and the number of digital transactions steeply increased.', \"[283][284]\\n\\nDuring the first four years of Modi's premiership, India's GDP grew at an average rate of 7.23 percent compared tho the rate of 6.39 percent under the previous government.\", '[285] Income inequality increased;[286] an internal government report said in 2017, unemployment increased to its highest level in 45 years.', 'The loss of jobs was attributed to the 2016 banknote demonetisation, and the effects of the Goods and Services Tax (GST).', '[287][288] GDP growth was 6.12 percent in the 2018–19 financial year, with an inflation rate of 3.4 percent.', '[289] In the year 2019–20, the GDP growth rate slowed to 4.18 percent, while inflation increased to 4.7 percent.', '[290] The Indian economy shrunk by 6.6 percent during the COVID-19 pandemic in 2020–21, and was estimated to grow at 8.2 percent the following financial year.', \"[291]\\n\\nHealth and sanitation\\nSee also: Swachh Bharat Mission\\nIn his first year as prime minister, Modi reduced the central government's healthcare spending.\", \"[177] In January 2015, the Modi government launched its New Health Policy (NHP), which did not increase the government's spending on healthcare but emphasised the role of private healthcare organisations.\", 'This represented a shift away from the policy of the previous Congress government, which had supported programmes to assist public health goals, including a reduction in child and maternal mortality rates.', '[292] The National Health Mission, which included public health programmes targeted at these indices, received nearly 20 percent less funding[293][294] in 2015 than in the previous year.', 'The Modi administration reduced the healthcare budget by a further 15% in its second year.', '[295] The healthcare budget for the following year rose by 19%; private insurance providers positively viewed the budget but public health experts criticised its emphasis on the role of private healthcare providers and said it represented a shift away from public health facilities.', '[296] The healthcare budget rose by 11.5% in 2018; the change included an allocation of ₹20 billion (US$250 million) for a government-funded health insurance program and a decrease in the budget of the National Health Mission.', \"[297]\\n\\n\\nModi discussing the COVID-19 pandemic with Chief Ministers via videoconferencing in June 2020\\nModi emphasised his government's efforts at sanitation as a means of ensuring good health.\", '[292] On 2 October 2014, Modi launched the Swachh Bharat Mission (\"Clean India\") campaign.', \"The campaign's stated goals included the elimination of open defecation and manual scavenging within five years.\", '[298][299] As part of the programme, the Indian government began constructing millions of toilets in rural areas and encouraging people to use them.', '[300][301][302] The government also announced plans to build new sewage treatment plants,[303] and planned to construct 60 million toilets by 2019.', 'The construction projects faced allegations of corruption and severe difficulty in getting people to use the newly constructed toilets.', \"[299][300][301] Sanitation cover in India increased from 38.7% in October 2014 to 84.1% in May 2018 but use of the new sanitary facilities was lower than the government's targets.\", '[304] In 2018, the World Health Organization (WHO) stated at least 180,000 diarrhoeal deaths in rural India were averted after the launch of the sanitation effort.', '[305]\\n\\nIn March 2020, in response to the COVID-19 pandemic, the Modi administration invoked the Epidemic Diseases Act, 1897 and Disaster Management Act, 2005.', '[306][307] The same month, all commercial domestic and international flights were suspended.', '[308] Modi announced a 14-hour curfew on 22 March,[309] and followed with a three-week \"total lockdown\" two days later.', '[310][311] Restrictions were gradually lifted beginning in April, and were completely revoked in November 2020.', '[308][312][313] A second wave of the pandemic that began in March 2021 was significantly more devastating than the first; some parts of India experienced shortages of vaccines, hospital beds, oxygen cylinders and other medical supplies.', '[314] In late April India reported over 400,000 cases in a 24-hour period, the first country to do so.', '[315] India began its vaccination programme in January 2021;[316][317] in January 2022, India announced it had administered about 1.7 billion doses of vaccines and that more than 720 million people were fully vaccinated.', \"[318] In May 2022, the WHO estimated 4.7 million people had died of COVID-19 in India, mostly during the second wave in mid 2021—almost 10 times the Indian government's estimate.\", \"The Modi administration rejected the WHO's estimate.\", \"[319][320]\\n\\nForeign policy\\nFurther information: Foreign policy of Narendra Modi and trips as prime minister\\n\\nModi with U.S. President Donald Trump at Namaste Trump rally in Ahmedabad, India\\nForeign policy played a small role in Modi's election campaign and did not feature prominently in the BJP's election manifesto.\", \"[321] Modi's foreign policy, similarly to that of the preceding Congress government, focused on improving economic ties, security and regional relations.\", '[321] Modi continued Manmohan Singh\\'s policy of \"multi-alignment\".', '[321] The Modi administration tried to attract foreign investment in the Indian economy from several sources, especially East Asia, with the use of slogans such as \"Make in India\" and \"Digital India\".', 'The government also tried to improve relations with Islamic nations in the Middle East, such as Bahrain, Iran, Saudi Arabia and the United Arab Emirates, as well as with Israel.', \"[k]\\n\\n\\nModi meeting Myanmar's leader Aung San Suu Kyi in New Delhi in January 2018\\nIndia's relationship with the United States improved after Narendra Modi became PM.\", \"[323] During the run-up to the general election, there was wide-ranging scepticism about future of the strategic bilateral relationship under Modi's premiership; in 2005, while Chief Minister of Gujarat, Modi was denied a US visa during the presidency of George W. Bush for his poor human-rights record.\", \"[147][148] Sensing Modi's victory well before the election, US Ambassador to India Nancy Powell contacted Modi as part of greater rapprochement from the West.\", \"Following Modi's 2014 appointment as India's PM, President Obama congratulated him over the telephone and invited Modi to visit the US.\", '[324] The Modi government enjoyed a positive relationship with the US during the presidencies of Barack Obama and his successor Donald Trump.', '[325][326]\\n\\nDuring the first few months after his appointment as PM, Modi visited a number of countries in support of his policy, and attended the BRICS, ASEAN and G20 summits.', \"[321] One of Modi's first visits as PM was to Nepal, during which he promised one billion US dollars in aid.\", \"[327] Modi also made several visits to the US;[328] this was described as an unexpected development because of the US's earlier denial of a US travel visa to Modi over his role in the 2002 Gujarat riots.\", 'The visits were expected to strengthen diplomatic and trade relations between the two countries.', '[328]\\n\\nIn 2015, the Indian parliament ratified a land-exchange deal with Bangladesh in the India–Bangladesh enclaves, which the government of Manmohan Singh had initiated.', '[212] Modi\\'s administration brought renewed attention to India\\'s \"Look East Policy\", which was instituted in 1991.', 'The policy, which was renamed the \"Act East Policy\", involved directing Indian foreign policy towards East Asia and Southeast Asia.', \"[329] The government signed agreements to improve land connectivity with Myanmar through the Indian state of Manipur; this represented a break with India's historic engagement with Myanmar, which prioritised border security over trade.\", '[329] China–India relations rapidly deteriorated following the 2020 China–India skirmishes.', \"[330] Modi pledged aid of $900 million to Afghanistan, which he visited twice and was honoured with Afghanistan's highest civilian honour in 2016.\", \"[331][332] In September 2022, Modi appeared to have developed a strong personal relationship with Russia's President Vladimir Putin.\", \"[333][334][335]\\n\\nDefence policy\\n\\nBenjamin Netanyahu, at the time Prime Minister of Israel, and Modi visiting the Technology Exhibition, at Tel Aviv, Israel in 2017\\nIndia's nominal military spending steadily increased under Modi.\", \"[336] During Modi's tenure, the military budget declined, both as a fraction of GDP and when adjusted for inflation.\", '[337][338] A substantial portion of the military budget was devoted to personnel costs commentators wrote the budget was constraining Indian military modernisation.', '[337][339][338]\\n\\nModi promised to be \"tough on Pakistan\" during his election campaign and repeatedly called Pakistan an exporter of terrorism.', '[340][341][342] On 29 September 2016, the Indian Army stated it had conducted a surgical strike on terror launch pads in Azad Kashmir; the Indian media said up to 50 terrorists and Pakistani soldiers had been killed in the strike.', '[343][344][345] Pakistan initially denied any strikes had taken place.', \"[346] Subsequent reports said India's statement about the scope of the strike and the number of casualties had been exaggerated, although cross-border strikes had been carried out.\", '[340][347][348] In February 2019, India carried out airstrikes against a supposed terrorist camp in Pakistan; no targets of significance were hit.', '[349][350] Further military skirmishes, including cross-border shelling and the loss of an Indian aircraft, occurred.', \"[351][352][353]\\n\\n\\nPM Modi along with Quad leaders in Washington\\nFollowing Modi's victory in 2019 Indian general election, he focused more on India's defence policies, especially those on China and Pakistan.\", '[354] On 5 May 2020, Chinese and Indian troops engaged in an aggressive melee and skirmishes at locations along the Sino-Indian border, including those near the disputed Pangong Lake, Ladakh, and Tibet Autonomous Region; and near the border between Sikkim and Tibet Autonomous Region.', 'Additional clashes took place in eastern Ladakh along the Line of Actual Control (LAC).', '[355] In 2020, skirmishes between the nations led to many border clashes, responses and reactions from both sides.', '[356] A series of talks between India and China were held, using military and diplomatic means for peace.', '[357] The first border clash reported in 2021 was on 20 January; this was referred to as a minor border clash in Sikkim.', '[358]\\n\\nIn December 2021, Modi signed an agreement with Russian leader Vladimir Putin to extend military technical cooperation.', '[359] The Modi government bought the S-400 missile system, an anti-missile striking system, strengthening the relationship between the two nations.', '[360] India refused to condemn the 2022 Russian invasion of Ukraine and stayed neutral.', \"[359][361] The Indian government's Operation Ganga initiative sought to return Indians stranded in Ukraine during the war.\", 'More than 19,000 Indian nationals were evacuated,[362][363] including some from neighbouring countries.', '[364]\\n\\nEnvironmental policy\\n\\nModi (right) at CoP21 Climate Conference, in Paris, announcing the founding of an International Solar Alliance (ISA).', 'November 2015.', 'While naming his cabinet, Modi renamed the Ministry of Environment and Forests the \"Ministry of Environment, Forests, and Climate Change\", and more-than-halved its money allocation in his administration\\'s first budget.', '[365] The new ministry removed or diluted a number of laws related to environmental protection, and others related to industrial activity.', '[215] The government also tried to reconstitute the National Board for Wildlife so it would no longer have representatives from NGOs but the Supreme Court of India blocked this move.', '[366] Other changes included a reduction of ministry oversight on small mining projects and ending the requirement for approval from tribal councils for projects inside forested areas.', \"Modi also lifted a moratorium on new industrial activity in India's most-polluted areas.\", '[366] The changes were welcomed by businesspeople but criticised by environmentalists.', '[367]\\n\\nSpeaking with Assamese students in 2014, Modi downplayed climate change, saying; \"Climate has not changed.', 'We have changed.', 'Our habits have changed.', 'Our habits have got spoiled.', 'Due to that, we have destroyed our entire environment.', '\"[368] Later in his administration, however, he has called for climate action,[369][370] especially with the proliferation of clean energy.', '[371][372] In 2015, Modi proposed the International Solar Alliance initiative to encourage investment in solar energy.', '[373] Holding developed countries responsible,[374] Modi and his government have said India has had a negligible historical role in climate change.', 'At the COP26 conference, Modi announced India would target carbon neutrality by 2070 and expand its renewable energy capacity.', '[375] Indian environmentalists and economists applauded the decision, describing it as bold climate action.', '[376] India has become the only major economy to be on track to meet its Paris Agreement goals.', '[377] It has achieved 10 percent of ethanol blending five months ahead of schedule.', \"[378]\\n\\nDemocratic backsliding\\nUnder Modi's tenure, India has experienced democratic backsliding.\", '[g] According to one study, \"The BJP government incrementally but systemically attacked nearly all existing mechanisms that are in place to hold the political executive to account, either by ensuring that these mechanisms became subservient to the political executive or were captured by party loyalists\".', '[18][379] The Modi government has used state power to intimidate and stifle critics in the media and academia, undermining freedom of expression and alternative sources of information.', '[380][19] His administration has been ctiticised for using a democratic mandate to undermine democratic processes, including focusing on Hindu-nationalist priorities rather than economic development.', \"Modi's second term as PM, in particular, saw the erosion of civil rights and press freedom.\", '[381]\\n\\nPublic perception and image\\nFurther information: Public image of Narendra Modi\\nModi has received consistently high approval ratings during his tenure;[12] he is often ranked in popular opinion polls as the greatest prime minister in Indian history.', '[382][383][384]\\n\\n\\nModi at Yoga Day celebrations in New Delhi, 21 June 2015\\nImage\\nA vegetarian and teetotaler,[385][386] Modi has a frugal lifestyle and is a workaholic and introvert.', '[387] A person named Badri Meena has been his cook since 2002.', '[388] Modi used to maintain a close and publicised relationship with his centenarian mother, Hiraben.', \"[389] Modi's 31 August 2012 post on Google Hangouts made him the first Indian politician to interact with citizens on a live chat.\", '[390][391] Modi has also been called a fashion icon for his signature crisply ironed, half-sleeved kurta, as well as for a suit with his name embroidered repeatedly in the pinstripes that he wore during a state visit by US President Barack Obama, which drew public and media attention and criticism.', \"[392][393][394] Modi's personality has been variously described by scholars and biographers as energetic, arrogant, and charismatic.\", '[23][395]\\n\\nHe had published a Gujarati book titled Jyotipunj in 2008, containing profiles of various RSS leaders.', 'The longest was of M. S. Golwalkar, under whose leadership the RSS expanded and whom Modi refers to as Pujniya Shri Guruji (\"Guru worthy of worship\").', '[396] According to The Economic Times, his intention was to explain the workings of the RSS to his readers and to reassure RSS members that he remained ideologically aligned with them.', 'Modi authored eight other books, mostly containing short stories for children.', '[397]\\n\\nThe nomination of Modi for the prime ministership drew attention to his reputation as \"one of contemporary India\\'s most controversial and divisive politicians.', '\"[171][398][399] During the 2014 election campaign the BJP projected an image of Modi as a strong, masculine leader, who would be able to take difficult decisions.', '[171][178][180][184][185] Campaigns in which he has participated have focused on Modi as an individual, in a manner unusual for the BJP and RSS.', '[180] Modi has relied upon his reputation as a politician able to bring about economic growth and \"development\".', '[400] Nonetheless, his role in the 2002 Gujarat riots continues to attract criticism and controversy.', \"[8] Modi's hardline Hindutva philosophy and the policies adopted by his government continue to draw criticism, and have been seen as evidence of a majoritarian and exclusionary social agenda.\", '[8][23][144][180]\\n\\nApproval ratings\\nMain article: Opinion polling on the Narendra Modi premiership\\n\\nModi interacting with the school children after delivering his address on Independence Day in New Delhi, 15 August 2017\\nAs a Prime Minister, Modi has received consistently high approval ratings; at the end of his first year in office, he received an overall approval rating of 87% in a Pew Research poll, with 68% of people rating him \"very favorably\" and 93% approving of his government.', '[401] His approval rating remained largely consistent at around 74% through his second year in office, according to a nationwide poll conducted by instaVaani.', '[402] At the end of his second year in office, an updated Pew Research poll showed Modi continued to receive high overall approval ratings of 81%, with 57% of those polled rating him \"very favorably\".', '[403][404] At the end of his third year in office, a further Pew Research poll showed Modi with an overall approval rating of 88%, his highest yet, with 69% of people polled rating him \"very favorably\".', '[405] A poll conducted by The Times of India in May 2017 showed 77% of the respondents rated Modi as \"very good\" and \"good\".', '[406] In early 2017, a survey from Pew Research Center showed Modi to be the most popular figure in Indian politics.', '[407] In a weekly analysis by Morning Consult called the Global Leader Approval Rating Tracker, Modi had the highest net approval rating as of 22 December 2020 of all government leaders in the 13 countries being tracked.', \"[408][409]\\n\\nIn popular culture\\nSee also: Category:Cultural depictions of Narendra Modi\\nModi Kaka Ka Gaon (Modi uncle's town), a 2017 Indian Hindi-language drama film by Tushar Amrish Goel, is the first biopic about Modi.\", 'It starred Vikas Mahante in the titular role.', '[410] PM Narendra Modi, a 2019 Hindi-language biographical drama film by Omung Kumar, starred Vivek Oberoi in the titular role and covers his rise to prime ministership.', '[411] An Indian web series, Modi: Journey of a Common Man, based on the same premise released in May 2019 on Eros Now with Ashish Sharma portraying Modi.', '[412]\\n\\n7 RCR (7, Race Course Road), a 2014 Indian docudrama political television series which charts the political careers of prominent Indian politicians, covered Modi\\'s rise to the PM\\'s office in the episodes \"Story of Narendra Modi from 1950 to 2001\", \"Story of Narendra Modi in Controversial Years from 2001 to 2013\", \"Truth Behind Brand Modi\", \"Election Journey of Narendra Modi to 7 RCR\", and \"Masterplan of Narendra Modi\\'s NDA Govt.', '\"; with Sangam Rai in the role of Modi.', \"[413] India: The Modi Question, a 2023 BBC documentary, examined Modi's role in the 2002 Gujarat riots and Modi's track record as Prime Minister.\", 'The documentary was banned by the Indian government to widespread criticism.', '[414][415][416][417]\\n\\nOther portrayals of Modi include those by Rajit Kapur in the film Uri: The Surgical Strike (2019) and Vikram Gokhale in the web-television series Avrodh: The Siege Within (2020), both based on the 2016 Uri attack and the subsequent Indian surgical strikes.', '[418][419] Gokhale reprised the role in the sequel Avrodh: The Siege Within 2 (2022), which is based on the 2016 Indian banknote demonetisation.', '[420] Pratap Singh played a character based on Modi in Chand Bujh Gaya (2005) which is set in the backdrop of the Gujarat riots.', \"[421]\\n\\nModi appeared in an episode of Discovery Channel's show Man vs Wild with the host Bear Grylls,[422][423] becoming the second world leader after Barack Obama to appear in the reality show.\", '[424] In the show he trekked the jungles and talked about nature and wildlife conservation with Grylls.', '[425] The episode was shot in Jim Corbett National Park, Uttarakhand and was broadcast in 180 countries along with India.', '[426] Modi hosts Mann Ki Baat, a monthly radio programme, on All India Radio, and has conducted Pariksha Pe Charcha — a competition and discussion for students and the issues they face in examinations.', '[427][428]\\n\\nAwards and recognition\\nIn March 2012 and June 2014, Modi appeared on the cover of the Asian edition of Time Magazine, one of the few Indian politicians to have done so.', '[429][430] He was awarded Indian of the Year by CNN-News18 (formally CNN-IBN) news network in 2014.', '[431] In June 2015, Modi was featured on the cover of Time Magazine.', \"[432] In 2014, 2015, 2017, 2020 and 2021, he was named one of Time magazine's 100 Most Influential People in the World.\", '[433] Forbes Magazine ranked him the 15th Most Powerful Person in the World in 2014 and the 9th Most Powerful Person in the World in 2015, 2016 and 2018.', '[434] In 2015, Modi was ranked the 13th Most Influential Person in the World by Bloomberg Markets Magazine.', '[435] In 2021 Time called him the third \"pivotal leader\" of independent India after Jawaharlal Nehru and Indira Gandhi who \"dominated the country\\'s politics like no one since them\".', '[436][437] Modi was ranked fifth on Fortune Magazine\\'s first annual list of the \"World\\'s Greatest Leaders\" in 2015.', '[438][439] In 2017, Gallup International Association (GIA) conducted a poll and ranked Modi as third top leader of the world.', '[440][441] In 2016, a wax statue of Modi was unveiled at Madame Tussauds wax museum in London.', '[442][443]\\n\\nIn 2015 he was named one of Time\\'s \"30 Most Influential People on the Internet\" as the second-most-followed politician on Twitter and Facebook.', '[444] In 2018, he was the third most followed world leader on Twitter,[citation needed] and the most followed world leader on Facebook and Instagram.', '[445][446] In October 2018, Modi received United Nations\\'s highest environmental award, the \\'Champions of the Earth\\', for policy leadership by \"pioneering work in championing\" the International Solar Alliance and \"new areas of levels of cooperation on environmental action\".', '[447][448] He was conferred the 2018 Seoul Peace Prize in recognition of \"his dedication to improving international co-operation, raising global economic growth, accelerating the Human Development of the people of India by fostering economic growth and furthering the development of democracy through anti-corruption and social integration efforts\".', 'He is the first Indian to win the award.', '[449][450]\\n\\nFollowing his second swearing-in ceremony as Prime Minister of India, a picture of Modi was displayed on the facade of the ADNOC building in Abu Dhabi, United Arab Emirates.', '[451] The Texas India Forum hosted a community event in honour of Modi on 22 September 2019 at the NRG Stadium in Houston, Texas.', 'The event was attended by over 50,000 people and several American politicians including President Donald Trump, making it the largest gathering for an invited foreign leader visiting the United States other than the Pope.', '[452][453] At the same event, Modi was presented with the Key to the City of Houston by Mayor Sylvester Turner.', '[454] He was awarded the Global Goalkeeper Award on 24 September 2019 in New York City by the Bill & Melinda Gates Foundation in recognition for the Swachh Bharat Mission and \"the progress India has made in providing safe sanitation under his leadership\".', '[455][456][457]\\n\\nIn 2020, Modi was among eight world leaders awarded the parodial Ig Nobel Prize in Medical Education \"for using the COVID-19 viral pandemic to teach the world that politicians can have a more immediate effect on life and death than scientists and doctors can\".', '[458] On 21 December 2020, President Donald Trump awarded Modi with the Legion of Merit for elevating the India–United States relations.', '[459][460] The Legion of Merit was awarded to Modi along with Prime Minister of Australia Scott Morrison and former Prime Minister of Japan Shinzo Abe, the \"original architects\" of the QUAD.', '[461][462][463] On 24 February 2021, the largest cricket stadium in the world at Ahmedabad was renamed Narendra Modi Stadium by the Gujarat Cricket Association.', '[464]\\nThis chapter provides an overview of computer security.', 'We begin with a discussion \\nof what we mean by computer security.', 'In essence, computer security deals with \\ncomputer-related assets that are subject to a variety of threats and for which various \\nmeasures are taken to protect those assets.', 'Accordingly, the next section of this \\nchapter provides a brief overview of the categories of computer-related assets that \\nusers and system managers wish to preserve and protect, and a look at the various \\nthreats and attacks that can be made on those assets.', 'Then, we survey the measures \\nthat can be taken to deal with such threats and attacks.', 'This we do from three dif\\x02ferent viewpoints, in Sections 1.3 through 1.5.', 'We then lay out in general terms a \\ncomputer security strategy.', 'The focus of this chapter, and indeed this book, is on three fundamental \\nquestions:\\n1.', 'What assets do we need to protect?', '2.', 'How are those assets threatened?', '3.', 'What can we do to counter those threats?', 'This definition introduces three key objectives that are at the heart of computer \\nsecurity:\\n• Confidentiality: This term covers two related concepts:\\n— Data confidentiality:1\\n Assures that private or confidential information is \\nnot made available or disclosed to unauthorized individuals.', '— Privacy: Assures that individuals control or influence what information \\nrelated to them may be collected and stored and by whom and to whom that \\ninformation may be disclosed.', '• Integrity: This term covers two related concepts:\\n— Data integrity: Assures that information and programs are changed only \\nin a specified and authorized manner.', '— System integrity: Assures that a system performs its intended function in \\nan unimpaired manner, free from deliberate or inadvertent unauthorized \\nmanipulation of the system.', '• Availability: Assures that systems work promptly and service is not denied to \\nauthorized users.', 'These three concepts form what is often referred to as the CIA triad.', 'The three \\nconcepts embody the fundamental security objectives for both data and for information \\nand computing services.', 'For example, the NIST standard FIPS 199 (Standards for Security \\nCategorization of Federal Information and Information Systems, February 2004) lists con\\x02fidentiality, integrity, and availability as the three security objectives for information and \\nfor information systems.', 'FIPS 199 provides a useful characterization of these three objec\\x02tives in terms of requirements and the definition of a loss of security in each category:\\n• Confidentiality: Preserving authorized restrictions on information access and \\ndisclosure, including means for protecting personal privacy and proprietary infor\\x02mation.', 'A loss of confidentiality is the unauthorized disclosure of information.', '• Integrity: Guarding against improper information modification or destruction, \\nincluding ensuring information nonrepudiation and authenticity.', 'A loss of integ\\x02rity is the unauthorized modification or destruction of information.', '• Availability: Ensuring timely and reliable access to and use of information.', 'A loss of availability is the disruption of access to or use of information or an \\ninformation system.', 'Although the use of the CIA triad to define security objectives is well estab\\x02lished, some in the security field feel that additional concepts are needed to present a \\ncomplete picture (see Figure 1.1).', 'Two of the most commonly mentioned are as follows:\\n• Authenticity: The property of being genuine and being able to be verified and \\ntrusted; confidence in the validity of a transmission, a message, or messageoriginator.', 'This means verifying that users are who they say they are and that \\neach input arriving at the system came from a trusted source.', '• Accountability: The security goal that generates the requirement for actions \\nof an entity to be traced uniquely to that entity.', 'This supports nonrepudiation, \\ndeterrence, fault isolation, intrusion detection and prevention, and after-action \\nrecovery and legal action.', 'Because truly secure systems are not yet an achiev\\x02able goal, we must be able to trace a security breach to a responsible party.', 'Systems must keep records of their activities to permit later forensic analysis \\nto trace security breaches or to aid in transaction disputes.', 'Note that FIPS 199 includes authenticity under integrity.', 'Examples\\nWe now provide some examples of applications that illustrate the requirements just \\nenumerated.2\\n For these examples, we use three levels of impact on organizations or \\nindividuals should there be a breach of security (i.e., a loss of confidentiality, integrity, \\nor availability).', 'These levels are defined in FIPS 199:\\n• Low: The loss could be expected to have a limited adverse effect on organiza\\x02tional operations, organizational assets, or individuals.', 'A limited adverse effect \\nmeans that, for example, the loss of confidentiality, integrity, or availability \\nmight: (i) cause a degradation in mission capability to an extent and duration \\nthat the organization is able to perform its primary functions, but the effec\\x02tiveness of the functions is noticeably reduced; (ii) result in minor damage to \\norganizational assets; (iii) result in minor financial loss; or (iv) result in minor \\nharm to individuals.', 'Moderate: The loss could be expected to have a serious adverse effect on \\norganizational operations, organizational assets, or individuals.', 'A serious \\nadverse effect means that, for example, the loss might: (i) cause a significant \\ndegradation in mission capability to an extent and duration that the organiza\\x02tion is able to perform its primary functions, but the effectiveness of the func\\x02tions is significantly reduced; (ii) result in significant damage to organizational \\nassets; (iii) result in significant financial loss; or (iv) result in significant harm to \\nindividuals that does not involve loss of life or serious life-threatening injuries.', '• High:The loss could be expected to have a severe or catastrophic adverse effect \\non organizational operations, organizational assets, or individuals.', 'A severe or \\ncatastrophic adverse effect means that, for example, the loss might: (i) cause a \\nsevere degradation in or loss of mission capability to an extent and duration \\nthat the organization is not able to perform one or more of its primary func\\x02tions; (ii) result in major damage to organizational assets; (iii) result in major \\nfinancial loss; or (iv) result in severe or catastrophic harm to individuals involv\\x02ing loss of life or serious life-threatening injuries.', 'Confidentiality Student grade information is an asset whose confidentiality is\\nconsidered to be highly important by students.', 'In the United States, the release of \\nsuch information is regulated by the Family Educational Rights and Privacy Act \\n(FERPA).', 'Grade information should only be available to students, their parents, and \\nemployees that require the information to do their job.', 'Student enrollment informa\\x02tion may have a moderate confidentiality rating.', 'While still covered by FERPA, this \\ninformation is seen by more people on a daily basis, is less likely to be targeted than \\ngrade information, and results in less damage if disclosed.', 'Directory information, such \\nas lists of students or faculty or departmental lists, may be assigned a low confiden\\x02tiality rating or indeed no rating.', 'This information is typically freely available to the \\npublic and published on a school’s website.', 'Integrity Several aspects of integrity are illustrated by the example of a hospital \\npatient’s allergy information stored in a database.', 'The doctor should be able to trust \\nthat the information is correct and current.', 'Now, suppose an employee (e.g., a nurse) \\nwho is authorized to view and update this information deliberately falsifies the data \\nto cause harm to the hospital.', 'The database needs to be restored to a trusted basis \\nquickly, and it should be possible to trace the error back to the person responsible.', 'Patient allergy information is an example of an asset with a high requirement for \\nintegrity.', 'Inaccurate information could result in serious harm or death to a patient, \\nand expose the hospital to massive liability.', 'An example of an asset that may be assigned a moderate level of integrity \\nrequirement is a website that offers a forum to registered users to discuss some spe\\x02cific topic.', 'Either a registered user or a hacker could falsify some entries or deface the \\nwebsite.', 'If the forum exists only for the enjoyment of the users, brings in little or no \\nadvertising revenue, and is not used for something important such as research, then \\npotential damage is not severe.', 'The Webmaster may experience some data, financial, \\nand time loss.', 'Availability The more critical a component or service is, the higher will be the \\nlevel of availability required.', 'Consider a system that provides authentication services \\nfor critical systems, applications, and devices.', 'An interruption of service results in the \\ninability for customers to access computing resources and staff to access the resources \\nthey need to perform critical tasks.', 'The loss of the service translates into a large \\nfinancial loss in lost employee productivity and potential customer loss.', 'An example of an asset that would typically be rated as having a moderate \\navailability requirement is a public website for a university; the website provides \\ninformation for current and prospective students and donors.', 'Such a site is not a \\ncritical component of the university’s information system, but its unavailability will \\ncause some embarrassment.', 'An online telephone directory lookup application would be classified as a low \\navailability requirement.', 'Although the temporary loss of the application may be an \\nannoyance, there are other ways to access the information, such as a hardcopy direc\\x02tory or the operator.', 'The Challenges of Computer Security\\nComputer security is both fascinating and complex.', 'Some of the reasons are as follows:\\n1.', 'Computer security is not as simple as it might first appear to the novice.', 'The \\nrequirements seem to be straightforward; indeed, most of the major require\\x02ments for security services can be given self-explanatory one-word labels: \\nconfidentiality, authentication, nonrepudiation, and integrity.', 'But the mecha\\x02nisms used to meet those requirements can be quite complex, and understanding \\nthem may involve rather subtle reasoning.', '2.', 'In developing a particular security mechanism or algorithm, one must always con\\x02sider potential attacks on those security features.', 'In many cases, successful attacks \\nare designed by looking at the problem in a completely different way, therefore \\nexploiting an unexpected weakness in the mechanism.', '3.', 'Because of Point 2, the procedures used to provide particular services are often \\ncounterintuitive.', 'Typically, a security mechanism is complex, and it is not obvious \\nfrom the statement of a particular requirement that such elaborate measures are \\nneeded.', 'Only when the various aspects of the threat are considered do elaborate \\nsecurity mechanisms make sense.', '4.', 'Having designed various security mechanisms, it is necessary to decide where to \\nuse them.', 'This is true both in terms of physical placement (e.g., at what points in \\na network are certain security mechanisms needed) and in a logical sense [e.g., \\nat what layer or layers of an architecture such as TCP/IP (Transmission Control \\nProtocol/Internet Protocol) should mechanisms be placed].', 'Security mechanisms typically involve more than a particular algorithm or \\nprotocol.', 'They also require that participants be in possession of some secret \\ninformation (e.g., an encryption key), which raises questions about the creation, \\ndistribution, and protection of that secret information.', 'There may also be a reli\\x02ance on communications protocols whose behavior may complicate the task ofdeveloping the security mechanism.', 'For example, if the proper functioning of the \\nsecurity mechanism requires setting time limits on the transit time of a message \\nfrom sender to receiver, then any protocol or network that introduces variable, \\nunpredictable delays may render such time limits meaningless.', '6.', 'Computer security is essentially a battle of wits between a perpetrator who tries \\nto find holes, and the designer or administrator who tries to close them.', 'The great \\nadvantage that the attacker has is that he or she need only find a single weak\\x02ness, while the designer must find and eliminate all weaknesses to achieve perfect \\nsecurity.', '7.', 'There is a natural tendency on the part of users and system managers to perceive \\nlittle benefit from security investment until a security failure occurs.', '8.', 'Security requires regular, even constant monitoring, and this is difficult in today’s \\nshort-term, overloaded environment.', '9.', 'Security is still too often an afterthought to be incorporated into a system after\\nthe design is complete, rather than being an integral part of the design process.', '10.', 'Many users and even security administrators view strong security as an impedi\\x02ment to efficient and user-friendly operation of an information system or use \\nof information.', 'The difficulties just enumerated will be encountered in numerous ways as we \\nexamine the various security threats and mechanisms throughout this book.', 'A Model for Computer Security\\nWe now introduce some terminology that will be useful throughout the book.3 Table \\n1.1 defines terms and Figure 1.2, based on [CCPS12a], shows the relationship among \\nsome of these terms.', 'We start with the concept of a system resource or asset, that \\nusers and owners wish to protect.', 'The assets of a computer system can be categorized \\nas follows:\\n• Hardware: Including computer systems and other data processing, data storage, \\nand data communications devices.', '• Software: Including the operating system, system utilities, and applications.', '• Data: Including files and databases, as well as security-related data, such as \\npassword files.', '• Communication facilities and networks: Local and wide area network com\\x02munication links, bridges, routers, and so on.', 'In the context of security, our concern is with the vulnerabilities of system \\nresources.', '[NRC02] lists the following general categories of vulnerabilities of a com\\x02puter system or network asset:\\n• The system can be corrupted, so it does the wrong thing or gives wrong answers.', 'For example, stored data values may differ from what they should be because \\nthey have been improperly modified.', 'Corresponding to the various types of vulnerabilities to a system resource are \\nthreats that are capable of exploiting those vulnerabilities.', 'A threat represents a \\npotential security harm to an asset.', 'An attack is a threat that is carried out (threat \\naction) and, if successful, leads to an undesirable violation of security, or threat con\\x02sequence.', 'The agent carrying out the attack is referred to as an attacker or threat \\nagent.', 'We can distinguish two types of attacks:\\n• Active attack: An attempt to alter system resources or affect their operation.', '• Passive attack: An attempt to learn or make use of information from the system \\nthat does not affect system resources.', 'We can also classify attacks based on the origin of the attack:\\n• Inside attack: Initiated by an entity inside the security perimeter (an “insider”).', 'The insider is authorized to access system resources but uses them in a way not \\napproved by those who granted the authorization.', '• Outside attack: Initiated from outside the perimeter, by an unauthorized or ille\\x02gitimate user of the system (an “outsider”).', 'On the Internet, potential outside \\nattackers range from amateur pranksters to organized criminals, international \\nterrorists, and hostile governments.', 'Finally, a countermeasure is any means taken to deal with a security attack.', 'Ideally, a countermeasure can be devised to prevent a particular type of attack from \\nsucceeding.', 'When prevention is not possible, or fails in some instance, the goal is to \\ndetect the attack then recover from the effects of the attack.', 'A countermeasure may \\nitself introduce new vulnerabilities.', 'In any case, residual vulnerabilities may remain \\nafter the imposition of countermeasures.', 'Such vulnerabilities may be exploited by \\nthreat agents representing a residual level of risk to the assets.', 'Owners will seek to \\nminimize that risk given other constraints.', '1.2 THREATS, ATTACKS, AND ASSETS\\nWe now turn to a more detailed look at threats, attacks, and assets.', 'First, we look at \\nthe types of security threats that must be dealt with, and then give some examples of \\nthe types of threats that apply to different categories of assets.', 'Threats and Attacks\\nTable 1.2, based on RFC 4949, describes four kinds of threat consequences and lists \\nthe kinds of attacks that result in each consequence.', 'Unauthorized disclosure is a threat to confidentiality.', 'The following types of \\nattacks can result in this threat consequence:\\n• Exposure: This can be deliberate, as when an insider intentionally releases sen\\x02sitive information, such as credit card numbers, to an outsider.', 'It can also be \\nthe result of a human, hardware, or software error, which results in an entity \\ngaining unauthorized knowledge of sensitive data.', 'There have been numerous instances of this, such as universities accidentally posting confidential student \\ninformation on the Web.', '• Interception: Interception is a common attack in the context of communica\\x02tions.', 'On a shared local area network (LAN), such as a wireless LAN or a \\nbroadcast Ethernet, any device attached to the LAN can receive a copy of \\npackets intended for another device.', 'On the Internet, a determined hacker can \\ngain access to e-mail traffic and other data transfers.', 'All of these situations cre\\x02ate the potential for unauthorized access to data.', '• Inference: An example of inference is known as traffic analysis, in which an \\nadversary is able to gain information from observing the pattern of traffic on \\na network, such as the amount of traffic between particular pairs of hosts on \\nthe network.', 'Another example is the inference of detailed information from a \\ndatabase by a user who has only limited access; this is accomplished by repeated \\nqueries whose combined results enable inference.', '• Intrusion: An example of intrusion is an adversary gaining unauthorized access \\nto sensitive data by overcoming the system’s access control protections.', 'Deception is a threat to either system integrity or data integrity.', 'The following \\ntypes of attacks can result in this threat consequence:\\n• Masquerade: One example of masquerade is an attempt by an unauthorized \\nuser to gain access to a system by posing as an authorized user; this could hap\\x02pen if the unauthorized user has learned another user’s logon ID and password.', 'Another example is malicious logic, such as a Trojan horse, that appears to \\nperform a useful or desirable function but actually gains unauthorized access \\nto system resources, or tricks a user into executing other malicious logic.', '• Falsification: This refers to the altering or replacing of valid data or the intro\\x02duction of false data into a file or database.', 'For example, a student may alter \\nhis or her grades on a school database.', '• Repudiation: In this case, a user either denies sending data, or a user denies \\nreceiving or possessing the data.', 'Disruption is a threat to availability or system integrity.', 'The following types of \\nattacks can result in this threat consequence:\\n• Incapacitation: This is an attack on system availability.', 'This could occur as a \\nresult of physical destruction of or damage to system hardware.', 'More typically, \\nmalicious software, such as Trojan horses, viruses, or worms, could operate in \\nsuch a way as to disable a system or some of its services.', '• Corruption: This is an attack on system integrity.', 'Malicious software in this \\ncontext could operate in such a way that system resources or services function \\nin an unintended manner.', 'Or a user could gain unauthorized access to a system \\nand modify some of its functions.', 'An example of the latter is a user placing \\nbackdoor logic in the system to provide subsequent access to a system and its \\nresources by other than the usual procedure.', '• Obstruction: One way to obstruct system operation is to interfere with commu\\x02nications by disabling communication links or altering communication control \\ninformation.', 'Another way is to overload the system by placing excess burden \\non communication traffic or processing resources.', 'Usurpation is a threat to system integrity.', 'The following types of attacks can \\nresult in this threat consequence:\\n• Misappropriation: This can include theft of service.', 'An example is a distributed \\ndenial of service attack, when malicious software is installed on a number of hosts \\nto be used as platforms to launch traffic at a target host.', 'In this case, the malicious \\nsoftware makes unauthorized use of processor and operating system resources.', '• Misuse: Misuse can occur by means of either malicious logic or a hacker that \\nhas gained unauthorized access to a system.', 'In either case, security functions \\ncan be disabled or thwarted.', 'Hardware A major threat to computer system hardware is the threat to availabil\\x02ity.', 'Hardware is the most vulnerable to attack and the least susceptible to automated \\ncontrols.', 'Threats include accidental and deliberate damage to equipment as well as \\ntheft.', 'The proliferation of personal computers and workstations and the widespread \\nuse of LANs increase the potential for losses in this area.', 'Theft of USB drives can \\nlead to loss of confidentiality.', 'Physical and administrative security measures are \\nneeded to deal with these threats.', 'Software Software includes the operating system, utilities, and application pro\\x02grams.', 'A key threat to software is an attack on availability.', 'Software, especially \\napplication software, is often easy to delete.', 'Software can also be altered or damaged \\nto render it useless.', 'Careful software configuration management, which includes \\nmaking backups of the most recent version of software, can maintain high avail\\x02ability.', 'A more difficult problem to deal with is software modification that results \\nin a program that still functions but that behaves differently than before, which is a \\nthreat to integrity/authenticity.', 'Computer viruses and related attacks fall into this \\ncategory.', 'A final problem is protection against software piracy.', 'Data Hardware and software security are typically concerns of computing cen\\x02ter professionals or individual concerns of personal computer users.', 'A much more \\nwidespread problem is data security, which involves files and other forms of data \\ncontrolled by individuals, groups, and business organizations.', 'Security concerns with respect to data are broad, encompassing availability, \\nsecrecy, and integrity.', 'In the case of availability, the concern is with the destruction \\nof data files, which can occur either accidentally or maliciously.', 'The obvious concern with secrecy is the unauthorized reading of data files or \\ndatabases, and this area has been the subject of perhaps more research and effort \\nthan any other area of computer security.', 'A less obvious threat to secrecy involves the \\nanalysis of data and manifests itself in the use of so-called statistical databases, which \\nprovide summary or aggregate information.', 'Presumably, the existence of aggregate \\ninformation does not threaten the privacy of the individuals involved.', 'However, as \\nthe use of statistical databases grows, there is an increasing potential for disclosure \\nof personal information.', 'In essence, characteristics of constituent individuals may be \\nidentified through careful analysis.', 'For example, if one table records the aggregate of \\nthe incomes of respondents A, B, C, and D and another records the aggregate of the \\nincomes of A, B, C, D, and E, the difference between the two aggregates would be the \\nincome of E. This problem is exacerbated by the increasing desire to combine data \\nsets.', 'In many cases, matching several sets of data for consistency at different levels \\nof aggregation requires access to individual units.', 'Thus, the individual units, which \\nare the subject of privacy concerns, are available at various stages in the processing \\nof data sets.Communication Lines and Networks Network security attacks can be classified \\nas passive attacks and active attacks.', 'A passive attack attempts to learn or make use of \\ninformation from the system, but does not affect system resources.', 'An active attack \\nattempts to alter system resources or affect their operation.', 'Passive attacks are in the nature of eavesdropping on, or monitoring of, trans\\x02missions.', 'The goal of the attacker is to obtain information that is being transmit\\x02ted.', 'Two types of passive attacks are the release of message contents and traffic \\nanalysis.', 'The release of message contents is easily understood.', 'A telephone conversation, \\nan electronic mail message, and a transferred file may contain sensitive or confiden\\x02tial information.', 'We would like to prevent an opponent from learning the contents \\nof these transmissions.', 'A second type of passive attack, traffic analysis, is more subtle.', 'Suppose we \\nhad a way of masking the contents of messages or other information traffic so oppo\\x02nents, even if they captured the message, could not extract the information from \\nthe message.', 'The common technique for masking contents is encryption.', 'If we had \\nencryption protection in place, an opponent might still be able to observe the pattern\\nof these messages.', 'The opponent could determine the location and identity of com\\x02municating hosts and could observe the frequency and length of messages being \\nexchanged.', 'This information might be useful in guessing the nature of the communi\\x02cation that was taking place.', 'Passive attacks are very difficult to detect because they do not involve any \\nalteration of the data.', 'Typically, the message traffic is sent and received in an appar\\x02ently normal fashion and neither the sender nor receiver is aware that a third party \\nhas read the messages or observed the traffic pattern.', 'However, it is feasible to pre\\x02vent the success of these attacks, usually by means of encryption.', 'Thus, the emphasis \\nin dealing with passive attacks is on prevention rather than detection.', 'Active attacks involve some modification of the data stream or the creation \\nof a false stream, and can be subdivided into four categories: replay, masquerade, \\nmodification of messages, and denial of service.', 'Replay involves the passive capture of a data unit and its subsequent retrans\\x02mission to produce an unauthorized effect.', 'A masquerade takes place when one entity pretends to be a different entity.', 'A masquerade attack usually includes one of the other forms of active attack.', 'For \\nexample, authentication sequences can be captured and replayed after a valid \\nauthentication sequence has taken place, thus enabling an authorized entity with \\nfew privileges to obtain extra privileges by impersonating an entity that has those \\nprivileges.', 'Modification of messages simply means that some portion of a legitimate \\nmessage is altered, or that messages are delayed or reordered, to produce an unau\\x02thorized effect.', 'For example, a message stating, “Allow John Smith to read confi\\x02dential file accounts” is modified to say, “Allow Fred Brown to read confidential \\nfile accounts.”There are a number of ways of classifying and characterizing the countermeasures \\nthat may be used to reduce vulnerabilities and deal with threats to system assets.', 'In \\nthis section, we view countermeasures in terms of functional requirements, and we \\nfollow the classification defined in FIPS 200 (Minimum Security Requirements for \\nFederal Information and Information Systems).', 'This standard enumerates 17 security\\x02related areas with regard to protecting the confidentiality, integrity, and availability of \\ninformation systems and the information processed, stored, and transmitted by those \\nsystems.', 'The areas are defined in Table 1.4.', 'The requirements listed in FIPS 200 encompass a wide range of counter\\x02measures to security vulnerabilities and threats.', 'Roughly, we can divide these \\ncountermeasures into two categories: those that require computer security technical \\nmeasures (covered in Parts One and Two), either hardware or software, or both; and \\nthose that are fundamentally management issues (covered in Part Three).', 'Each of the functional areas may involve both computer security technical mea\\x02sures and management measures.', 'Functional areas that primarily require computer \\nsecurity technical measures include access control, identification and authentica\\x02tion, system and communication protection, and system and information integrity.', 'Functional areas that primarily involve management controls and procedures include \\nawareness and training; audit and accountability; certification, accreditation, and \\nsecurity assessments; contingency planning; maintenance; physical and environmen\\x02tal protection; planning; personnel security; risk assessment; and systems and services \\nacquisition.', 'Functional areas that overlap computer security technical measures and \\nmanagement controls include configuration management, incident response, and \\nmedia protection.', 'The first eight listed principles were first proposed in [SALT75] and have with\\x02stood the test of time.', 'In this section, we briefly discuss each principle.', 'Economy of mechanism means the design of security measures embodied in \\nboth hardware and software should be as simple and small as possible.', 'The motiva\\x02tion for this principle is that relatively simple, small design is easier to test and verify \\nthoroughly.', 'With a complex design, there are many more opportunities for an adver\\x02sary to discover subtle weaknesses to exploit that may be difficult to spot ahead of \\ntime.', 'The more complex the mechanism is, the more likely it is to possess exploitable \\nflaws.', 'Simple mechanisms tend to have fewer exploitable flaws and require less \\nmaintenance.', 'Furthermore, because configuration management issues are simpli\\x02fied, updating or replacing a simple mechanism becomes a less intensive process.', 'In practice, this is perhaps the most difficult principle to honor.', 'There is a constant \\ndemand for new features in both hardware and software, complicating the security \\ndesign task.', 'The best that can be done is to keep this principle in mind during system \\ndesign to try to eliminate unnecessary complexity.', 'Fail-safe default means access decisions should be based on permission rather \\nthan exclusion.', 'That is, the default situation is lack of access, and the protection \\nscheme identifies conditions under which access is permitted.', 'This approach exhibits \\na better failure mode than the alternative approach, where the default is to per\\x02mit access.', 'A design or implementation mistake in a mechanism that gives explicit \\npermission tends to fail by refusing permission, a safe situation that can be quickly \\ndetected.', 'On the other hand, a design or implementation mistake in a mechanism that \\nexplicitly excludes access tends to fail by allowing access, a failure that may long go \\nunnoticed in normal use.', 'For example, most file access systems work on this principle \\nand virtually all protected services on client/server systems work this way.', 'Complete mediation means every access must be checked against the access \\ncontrol mechanism.', 'Systems should not rely on access decisions retrieved from \\na cache.', 'In a system designed to operate continuously, this principle requires that, if \\naccess decisions are remembered for future use, careful consideration be given to how \\nchanges in authority are propagated into such local memories.', 'File access systems \\nappear to provide an example of a system that complies with this principle.', 'However, \\ntypically, once a user has opened a file, no check is made to see of permissions change.', 'To fully implement complete mediation, every time a user reads a field or record \\nin a file, or a data item in a database, the system must exercise access control.', 'This \\nresource-intensive approach is rarely used.', 'Open design means the design of a security mechanism should be open rather \\nthan secret.', 'For example, although encryption keys must be secret, encryption \\nalgorithms should be open to public scrutiny.', 'The algorithms can then be reviewed \\nby many experts, and users can therefore have high confidence in them.', 'This is the \\nphilosophy behind the National Institute of Standards and Technology (NIST) pro\\x02gram of standardizing encryption and hash algorithms, and has led to the widespread \\nadoption of NIST-approved algorithms.', 'Separation of privilege is defined in [SALT75] as a practice in which multiple \\nprivilege attributes are required to achieve access to a restricted resource.', 'A good \\nexample of this is multifactor user authentication, which requires the use of mul\\x02tiple techniques, such as a password and a smart card, to authorize a user.', 'The term \\nis also now applied to any technique in which a program is divided into parts that \\nare limited to the specific privileges they require in order to perform a specific \\ntask.', 'This is used to mitigate the potential damage of a computer security attack.', 'One example of this latter interpretation of the principle is removing high privilege \\noperations to another process and running that process with the higher privileges \\nrequired to perform its tasks.', 'Day-to-day interfaces are executed in a lower privi\\x02leged process.', 'Least privilege means every process and every user of the system should operate\\nusing the least set of privileges necessary to perform the task.', 'A good example of the \\nuse of this principle is role-based access control, as will be described in Chapter 4.', 'The \\nsystem security policy can identify and define the various roles of users or processes.', 'Each role is assigned only those permissions needed to perform its functions.', 'Each \\npermission specifies a permitted access to a particular resource (such as read and \\nwrite access to a specified file or directory, and connect access to a given host and \\nport).', 'Unless permission is granted explicitly, the user or process should not be able \\nto access the protected resource.', 'More generally, any access control system should \\nallow each user only the privileges that are authorized for that user.', 'There is also a \\ntemporal aspect to the least privilege principle.', 'For example, system programs or \\nadministrators who have special privileges should have those privileges only when \\nnecessary; when they are doing ordinary activities the privileges should be withdrawn.', 'Leaving them in place just opens the door to accidents.', 'Least common mechanism means the design should minimize the functions \\nshared by different users, providing mutual security.', 'This principle helps reduce the \\nnumber of unintended communication paths and reduces the amount of hardware \\nand software on which all users depend, thus making it easier to verify if there are \\nany undesirable security implications.', 'Psychological acceptability implies the security mechanisms should not \\ninterfere unduly with the work of users, and at the same time meet the needs of \\nthose who authorize access.', 'If security mechanisms hinder the usability or acces\\x02sibility of resources, users may opt to turn off those mechanisms.', 'Where possible, \\nsecurity mechanisms should be transparent to the users of the system or at most \\nintroduce minimal obstruction.', 'In addition to not being intrusive or burdensome, \\nsecurity procedures must reflect the user’s mental model of protection.', 'If the pro\\x02tection procedures do not make sense to the user or if the user, must translate his \\nor her image of protection into a substantially different protocol, the user is likely \\nto make errors.Isolation is a principle that applies in three contexts.', 'First, public access systems \\nshould be isolated from critical resources (data, processes, etc.)', 'to prevent disclo\\x02sure or tampering.', 'In cases where the sensitivity or criticality of the information is \\nhigh, organizations may want to limit the number of systems on which that data are \\nstored and isolate them, either physically or logically.', 'Physical isolation may include \\nensuring that no physical connection exists between an organization’s public access \\ninformation resources and an organization’s critical information.', 'When implement\\x02ing logical isolation solutions, layers of security services and mechanisms should \\nbe established between public systems and secure systems that is responsible for \\nprotecting critical resources.', 'Second, the processes and files of individual users should \\nbe isolated from one another except where it is explicitly desired.', 'All modern oper\\x02ating systems provide facilities for such isolation, so individual users have separate, \\nisolated process space, memory space, and file space, with protections for preventing \\nunauthorized access.', 'And finally, security mechanisms should be isolated in the sense \\nof preventing access to those mechanisms.', 'For example, logical access control may \\nprovide a means of isolating cryptographic software from other parts of the host \\nsystem and for protecting cryptographic software from tampering and the keys from \\nreplacement or disclosure.', 'Encapsulation can be viewed as a specific form of isolation based on object\\x02oriented functionality.', 'Protection is provided by encapsulating a collection of pro\\x02cedures and data objects in a domain of its own so that the internal structure of a \\ndata object is accessible only to the procedures of the protected subsystem and the \\nprocedures may be called only at designated domain entry points.', 'Modularity in the context of security refers both to the development of secu\\x02rity functions as separate, protected modules, and to the use of a modular architec\\x02ture for mechanism design and implementation.', 'With respect to the use of separate \\nsecurity modules, the design goal here is to provide common security functions \\nand services, such as cryptographic functions, as common modules.', 'For example, \\nnumerous protocols and applications make use of cryptographic functions.', 'Rather \\nthan implementing such functions in each protocol or application, a more secure \\ndesign is provided by developing a common cryptographic module that can be \\ninvoked by numerous protocols and applications.', 'The design and implementation \\neffort can then focus on the secure design and implementation of a single crypto\\x02graphic module, including mechanisms to protect the module from tampering.', 'With \\nrespect to the use of a modular architecture, each security mechanism should be \\nable to support migration to new technology or upgrade of new features without \\nrequiring an entire system redesign.', 'The security design should be modular so that \\nindividual parts of the security design can be upgraded without the requirement to \\nmodify the entire system.', 'Layering refers to the use of multiple, overlapping protection approaches \\naddressing the people, technology, and operational aspects of information systems.', 'By using multiple, overlapping protection approaches, the failure or circumvention \\nof any individual protection approach will not leave the system unprotected.', 'We will \\nsee throughout this book that a layering approach is often used to provide multiple \\nbarriers between an adversary and protected information or services.', 'This technique \\nis often referred to as defense in depth.']\n"
          ]
        },
        {
          "output_type": "stream",
          "name": "stderr",
          "text": [
            "[nltk_data] Downloading package punkt to /root/nltk_data...\n",
            "[nltk_data]   Package punkt is already up-to-date!\n"
          ]
        }
      ]
    },
    {
      "cell_type": "markdown",
      "source": [
        "**Denoising of dataset and model training**"
      ],
      "metadata": {
        "id": "u_-qRZfzJg2C"
      }
    },
    {
      "cell_type": "code",
      "source": [
        "train_sentences = list\n",
        "\n",
        "train_dataset = datasets.DenoisingAutoEncoderDataset(train_sentences)\n",
        "\n",
        "train_dataloader = DataLoader(train_dataset, batch_size=8 ,shuffle=True)\n",
        "\n",
        "train_loss = losses.DenoisingAutoEncoderLoss(model, decoder_name_or_path=model_name, tie_encoder_decoder=True)\n",
        "\n",
        "model.fit(\n",
        "    train_objectives=[(train_dataloader, train_loss)],\n",
        "    epochs = 1,\n",
        "    weight_decay = 0,\n",
        "    scheduler = 'constantlr',\n",
        "    optimizer_params={'lr' : 3e-5},\n",
        "    show_progress_bar = True\n",
        ")\n",
        "\n",
        "model.save('model-BERT-sentence')\n"
      ],
      "metadata": {
        "colab": {
          "base_uri": "https://localhost:8080/",
          "height": 222,
          "referenced_widgets": [
            "fe58e0d0261e4c59b6108d9515583e60",
            "3dd3e0d79744495b961d489333e065f3",
            "03ed670652254f9faa9f62f70edd406f",
            "89bfb46e51ee4497b2f3500087ee8845",
            "25777ccdd4f345f09966aa9f669ed1f1",
            "8f0d838b5c21431cb6e1b8b67aa431c6",
            "ce8a168b7a504f07888028b489bd6936",
            "5bd57db4c5ac4d8ea424c3a9029a35a3",
            "e921e2cdf89f43739bdb2c490b614b25",
            "02a6a1e55d644e61809f9beff1db5a3a",
            "040d977e0f47457c98410a4f8bd871b5",
            "53cd2d3fa32e42db8f8fe715a5b82802",
            "5b9be3082327402692a0f8a534ec38a4",
            "5109723ed40c4bfcbdb053e98f925dbe",
            "168fdbac0b554118a54e16864934a035",
            "332c9c342c7c45b98f88d9fd1b3271a6",
            "a31c3159908044c48e7080f9ca46b2a5",
            "6d5a54c020364bacb74312a2908177ff",
            "419edfa7f9cc4e83ab3cee87750e7fd5",
            "b7abb564ce21456e9da5f8fa5ad61daf",
            "fb19c0a31deb4862b5fc193543cdbbd6",
            "9c4cb1aba0ad49d6975df4ab0aebf4a4"
          ]
        },
        "id": "uONZrLG7yNoY",
        "outputId": "70e55aca-6c92-4dd8-b433-8130f8a04962"
      },
      "execution_count": null,
      "outputs": [
        {
          "output_type": "stream",
          "name": "stderr",
          "text": [
            "WARNING:sentence_transformers.losses.DenoisingAutoEncoderLoss:When tie_encoder_decoder=True, the decoder_name_or_path will be invalid.\n",
            "Some weights of the model checkpoint at bert-base-uncased were not used when initializing BertLMHeadModel: ['cls.seq_relationship.weight', 'cls.seq_relationship.bias']\n",
            "- This IS expected if you are initializing BertLMHeadModel from the checkpoint of a model trained on another task or with another architecture (e.g. initializing a BertForSequenceClassification model from a BertForPreTraining model).\n",
            "- This IS NOT expected if you are initializing BertLMHeadModel from the checkpoint of a model that you expect to be exactly identical (initializing a BertForSequenceClassification model from a BertForSequenceClassification model).\n",
            "Some weights of BertLMHeadModel were not initialized from the model checkpoint at bert-base-uncased and are newly initialized: ['bert.encoder.layer.6.crossattention.self.value.bias', 'bert.encoder.layer.6.crossattention.self.query.bias', 'bert.encoder.layer.8.crossattention.output.dense.bias', 'bert.encoder.layer.11.crossattention.self.value.bias', 'bert.encoder.layer.10.crossattention.output.LayerNorm.bias', 'bert.encoder.layer.8.crossattention.self.query.weight', 'bert.encoder.layer.9.crossattention.self.key.weight', 'bert.encoder.layer.3.crossattention.self.value.weight', 'bert.encoder.layer.7.crossattention.self.value.weight', 'bert.encoder.layer.7.crossattention.self.value.bias', 'bert.encoder.layer.0.crossattention.self.key.weight', 'bert.encoder.layer.9.crossattention.self.key.bias', 'bert.encoder.layer.2.crossattention.output.LayerNorm.weight', 'bert.encoder.layer.7.crossattention.self.key.bias', 'bert.encoder.layer.5.crossattention.self.key.weight', 'bert.encoder.layer.4.crossattention.self.key.bias', 'bert.encoder.layer.3.crossattention.self.key.bias', 'bert.encoder.layer.2.crossattention.self.value.weight', 'bert.encoder.layer.3.crossattention.self.query.weight', 'bert.encoder.layer.0.crossattention.self.value.weight', 'bert.encoder.layer.3.crossattention.self.query.bias', 'bert.encoder.layer.11.crossattention.self.key.bias', 'bert.encoder.layer.1.crossattention.output.LayerNorm.weight', 'bert.encoder.layer.0.crossattention.output.LayerNorm.weight', 'bert.encoder.layer.2.crossattention.self.key.weight', 'bert.encoder.layer.11.crossattention.self.value.weight', 'bert.encoder.layer.0.crossattention.self.key.bias', 'bert.encoder.layer.4.crossattention.output.dense.weight', 'bert.encoder.layer.8.crossattention.self.value.bias', 'bert.encoder.layer.2.crossattention.output.LayerNorm.bias', 'bert.encoder.layer.5.crossattention.output.LayerNorm.weight', 'bert.encoder.layer.3.crossattention.output.LayerNorm.weight', 'bert.encoder.layer.10.crossattention.self.key.weight', 'bert.encoder.layer.4.crossattention.output.LayerNorm.weight', 'bert.encoder.layer.6.crossattention.self.query.weight', 'bert.encoder.layer.7.crossattention.output.dense.bias', 'bert.encoder.layer.8.crossattention.self.query.bias', 'bert.encoder.layer.6.crossattention.self.key.weight', 'bert.encoder.layer.7.crossattention.output.LayerNorm.bias', 'bert.encoder.layer.3.crossattention.output.dense.bias', 'bert.encoder.layer.3.crossattention.self.value.bias', 'bert.encoder.layer.1.crossattention.self.value.bias', 'bert.encoder.layer.4.crossattention.self.query.weight', 'bert.encoder.layer.1.crossattention.self.value.weight', 'bert.encoder.layer.2.crossattention.output.dense.bias', 'bert.encoder.layer.9.crossattention.self.query.bias', 'bert.encoder.layer.9.crossattention.self.value.bias', 'bert.encoder.layer.8.crossattention.output.dense.weight', 'bert.encoder.layer.7.crossattention.self.query.bias', 'bert.encoder.layer.1.crossattention.self.query.bias', 'bert.encoder.layer.2.crossattention.output.dense.weight', 'bert.encoder.layer.11.crossattention.output.LayerNorm.weight', 'bert.encoder.layer.3.crossattention.self.key.weight', 'bert.encoder.layer.4.crossattention.output.LayerNorm.bias', 'bert.encoder.layer.2.crossattention.self.value.bias', 'bert.encoder.layer.6.crossattention.output.LayerNorm.weight', 'bert.encoder.layer.6.crossattention.output.LayerNorm.bias', 'bert.encoder.layer.8.crossattention.output.LayerNorm.bias', 'bert.encoder.layer.1.crossattention.self.key.weight', 'bert.encoder.layer.1.crossattention.output.dense.weight', 'bert.encoder.layer.4.crossattention.output.dense.bias', 'bert.encoder.layer.7.crossattention.output.dense.weight', 'bert.encoder.layer.0.crossattention.self.query.weight', 'bert.encoder.layer.11.crossattention.output.dense.weight', 'bert.encoder.layer.10.crossattention.self.value.bias', 'bert.encoder.layer.4.crossattention.self.key.weight', 'bert.encoder.layer.11.crossattention.self.query.weight', 'bert.encoder.layer.5.crossattention.self.key.bias', 'bert.encoder.layer.9.crossattention.output.dense.weight', 'bert.encoder.layer.1.crossattention.self.key.bias', 'bert.encoder.layer.5.crossattention.self.value.weight', 'bert.encoder.layer.11.crossattention.self.key.weight', 'bert.encoder.layer.4.crossattention.self.value.weight', 'bert.encoder.layer.8.crossattention.self.key.weight', 'bert.encoder.layer.5.crossattention.output.dense.bias', 'bert.encoder.layer.9.crossattention.output.LayerNorm.weight', 'bert.encoder.layer.0.crossattention.self.query.bias', 'bert.encoder.layer.7.crossattention.self.key.weight', 'bert.encoder.layer.2.crossattention.self.query.bias', 'bert.encoder.layer.11.crossattention.self.query.bias', 'bert.encoder.layer.0.crossattention.output.LayerNorm.bias', 'bert.encoder.layer.10.crossattention.self.key.bias', 'bert.encoder.layer.5.crossattention.self.value.bias', 'bert.encoder.layer.5.crossattention.self.query.bias', 'bert.encoder.layer.7.crossattention.self.query.weight', 'bert.encoder.layer.1.crossattention.output.dense.bias', 'bert.encoder.layer.2.crossattention.self.query.weight', 'bert.encoder.layer.4.crossattention.self.query.bias', 'bert.encoder.layer.7.crossattention.output.LayerNorm.weight', 'bert.encoder.layer.10.crossattention.self.query.bias', 'bert.encoder.layer.10.crossattention.output.dense.weight', 'bert.encoder.layer.0.crossattention.self.value.bias', 'bert.encoder.layer.5.crossattention.self.query.weight', 'bert.encoder.layer.2.crossattention.self.key.bias', 'bert.encoder.layer.9.crossattention.self.value.weight', 'bert.encoder.layer.3.crossattention.output.LayerNorm.bias', 'bert.encoder.layer.1.crossattention.output.LayerNorm.bias', 'bert.encoder.layer.9.crossattention.output.dense.bias', 'bert.encoder.layer.3.crossattention.output.dense.weight', 'bert.encoder.layer.10.crossattention.self.query.weight', 'bert.encoder.layer.10.crossattention.output.LayerNorm.weight', 'bert.encoder.layer.11.crossattention.output.LayerNorm.bias', 'bert.encoder.layer.5.crossattention.output.LayerNorm.bias', 'bert.encoder.layer.1.crossattention.self.query.weight', 'bert.encoder.layer.0.crossattention.output.dense.bias', 'bert.encoder.layer.8.crossattention.self.value.weight', 'bert.encoder.layer.10.crossattention.output.dense.bias', 'bert.encoder.layer.10.crossattention.self.value.weight', 'bert.encoder.layer.6.crossattention.output.dense.weight', 'bert.encoder.layer.5.crossattention.output.dense.weight', 'bert.encoder.layer.11.crossattention.output.dense.bias', 'bert.encoder.layer.8.crossattention.self.key.bias', 'bert.encoder.layer.6.crossattention.self.key.bias', 'bert.encoder.layer.6.crossattention.output.dense.bias', 'bert.encoder.layer.6.crossattention.self.value.weight', 'bert.encoder.layer.8.crossattention.output.LayerNorm.weight', 'bert.encoder.layer.0.crossattention.output.dense.weight', 'bert.encoder.layer.4.crossattention.self.value.bias', 'bert.encoder.layer.9.crossattention.self.query.weight', 'bert.encoder.layer.9.crossattention.output.LayerNorm.bias']\n",
            "You should probably TRAIN this model on a down-stream task to be able to use it for predictions and inference.\n",
            "The following encoder weights were not tied to the decoder ['bert/pooler']\n"
          ]
        },
        {
          "output_type": "display_data",
          "data": {
            "text/plain": [
              "Epoch:   0%|          | 0/1 [00:00<?, ?it/s]"
            ],
            "application/vnd.jupyter.widget-view+json": {
              "version_major": 2,
              "version_minor": 0,
              "model_id": "fe58e0d0261e4c59b6108d9515583e60"
            }
          },
          "metadata": {}
        },
        {
          "output_type": "display_data",
          "data": {
            "text/plain": [
              "Iteration:   0%|          | 0/102 [00:00<?, ?it/s]"
            ],
            "application/vnd.jupyter.widget-view+json": {
              "version_major": 2,
              "version_minor": 0,
              "model_id": "53cd2d3fa32e42db8f8fe715a5b82802"
            }
          },
          "metadata": {}
        }
      ]
    },
    {
      "cell_type": "code",
      "source": [
        "import numpy as np\n",
        "model1 = SentenceTransformer('/content/model-BERT-sentence')\n",
        "\n",
        "\n",
        "# model1 ---> is trained by us('bert-base-uncased')\n",
        "# model2 ---> is pretrained model('all-mpnet-base-v2')\n"
      ],
      "metadata": {
        "id": "4900Bzqy2lSZ"
      },
      "execution_count": null,
      "outputs": []
    },
    {
      "cell_type": "markdown",
      "source": [
        "**Comparison of performance of trained model and pretrained model**"
      ],
      "metadata": {
        "id": "yH_SuBQpKN_b"
      }
    },
    {
      "cell_type": "code",
      "source": [
        "sentence1 = ['This framework generates the sentence embeddings']\n",
        "sentence2 = ['After great success at the Parliament, in the subsequent years, Vivekananda delivered hundreds of lectures across the United States']\n",
        "# sentence2 = ['After great success at the Parliament, in the subsequent years, Vivekananda delivered hundreds of lectures across the United States, England and Europe, disseminating the core tenets of Hindu philosophy, and founded the Vedanta Society of New York and the Vedanta Society of San Francisco.']\n",
        "# sentence1 = ['After his success in Parliament, Vivekananda gave hundreds of lectures in the US, UK and Europe in the years that followed, presented important teachings of Hindu philosophy, and founded the Vedanta Society of New York and the Vedanta Society of San Francisco.']"
      ],
      "metadata": {
        "id": "w7fK98l64xqt"
      },
      "execution_count": null,
      "outputs": []
    },
    {
      "cell_type": "code",
      "source": [
        "embedding11 = model1.encode(sentence1)\n",
        "embedding12 = model1.encode(sentence2)\n",
        "embedding21 = model2.encode(sentence1)\n",
        "embedding22 = model2.encode(sentence2)\n",
        "score1 = util.pytorch_cos_sim(embedding11,embedding12)\n",
        "score2 = util.pytorch_cos_sim(embedding21,embedding22)\n",
        "print(score1)\n",
        "print(score2)\n",
        "\n"
      ],
      "metadata": {
        "colab": {
          "base_uri": "https://localhost:8080/"
        },
        "id": "-8pvvPH-63-T",
        "outputId": "35d88bc8-4c99-4ca6-d836-ccfd80f6c7a8"
      },
      "execution_count": null,
      "outputs": [
        {
          "output_type": "stream",
          "name": "stdout",
          "text": [
            "tensor([[0.6173]])\n",
            "tensor([[0.0937]])\n"
          ]
        }
      ]
    },
    {
      "cell_type": "code",
      "source": [],
      "metadata": {
        "id": "KeHd8b0n7EtL"
      },
      "execution_count": null,
      "outputs": []
    }
  ]
}